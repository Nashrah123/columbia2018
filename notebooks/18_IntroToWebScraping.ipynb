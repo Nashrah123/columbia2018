{
 "cells": [
  {
   "cell_type": "markdown",
   "metadata": {},
   "source": [
    "## Intro to Web Scraping\n",
    "\n",
    "We've been collecting data in class using various APIs and (downloadable) CSV files. While APIs can provide an easy way to get to information we need for our analysys and reporting, there are plenty other valuable data sources for us to take advantage: web pages (HTML), pdf files, email dumps, etc. Automating the extraction of useful information from web pages is known as **\"web scraping.\"** A terrible name aside, web scraping is very powerful and it's something you'll want to master. Today, we'll talk about some of the basics of web scraping.\n",
    "\n",
    "![Web Scraping](https://blog.hartleybrody.com/wp-content/uploads/2012/12/scraper-tool.jpg)\n",
    "\n",
    "\n",
    "There are many ways to scrape information from the web, but we're going to use Python, [requests](http://docs.python-requests.org/en/master/) and [BeautifulSoup](https://www.crummy.com/software/BeautifulSoup/)."
   ]
  },
  {
   "cell_type": "markdown",
   "metadata": {},
   "source": [
    "### Trump's Lies\n",
    "\n",
    "Since we haven't talked about Trump nearly enough in this class(!), let's take a look at a New York Times piece on [all of the lies Trump told in 2017](https://www.nytimes.com/interactive/2017/06/23/opinion/trumps-lies.html). Fun! This will lead to a good scraping exercise. Before we get to the code, take a quick look at the NYTimes piece.\n",
    "\n",
    "The first part of web scraping is making HTTP requests to pull the pages we need. Remember the [requests](http://docs.python-requests.org/en/master/) library?"
   ]
  },
  {
   "cell_type": "code",
   "execution_count": null,
   "metadata": {
    "collapsed": true
   },
   "outputs": [],
   "source": [
    "# make the request to get the Trump Lies HTML\n",
    "from requests import get\n",
    "\n",
    "url = 'https://www.nytimes.com/interactive/2017/06/23/opinion/trumps-lies.html'\n",
    "\n",
    "headers = {\n",
    "    'From': '<put your email here>',\n",
    "}\n",
    "response = get(url, headers=headers)"
   ]
  },
  {
   "cell_type": "markdown",
   "metadata": {},
   "source": [
    "Above, we include a \"header\" field (represented as a dictionary). The header passes information to the web server that might change the way it returns content. In later exercises, we might need to specify the header \"User-Agent\" which tells the server what kind of  browser the requeste is being made from -- some servers don't like handing pages out to bots. \n",
    "\n",
    "For now, we are using the \"From\" header to announce ourselves. I like to tell a source that I'm taking data. If you want to know more about headers, have a look [here](https://en.wikipedia.org/wiki/List_of_HTTP_header_fields)."
   ]
  },
  {
   "cell_type": "code",
   "execution_count": null,
   "metadata": {
    "collapsed": true
   },
   "outputs": [],
   "source": [
    "# let's see what we have. remember that response.text will give us a string value of the page HTML\n",
    "\n",
    "print(response.text)"
   ]
  },
  {
   "cell_type": "markdown",
   "metadata": {},
   "source": [
    "This is kind of a mess. The whole web page has been read in as a string. Thankfully, one of the great things about Python is a package called [BeautifulSoup](http://www.crummy.com/software/BeautifulSoup/), designed by [Leonard Richardson](http://www.crummy.com/self/). It is truly a thing of beauty. BeautifulSoup is a parser for HTML (and XML) that creates an object that lets you interact with the components of a web page. You can search for tags, extract attributes from the tags and pull the content contained in a tag. [The documentation is pretty simple too.](http://www.crummy.com/software/BeautifulSoup/bs4/doc/) The latest version of BeautifulSoup is 4.6.0 and the package is called bs4."
   ]
  },
  {
   "cell_type": "markdown",
   "metadata": {},
   "source": [
    "We will come back to parsing Trump's lies with BeautifulSoup but let's start with a simple example first. Here is some very simple HTML that I'd like to run through BeautifulSoup:\n",
    "\n",
    "```html\n",
    "<html>\n",
    "\n",
    "    <head>\n",
    "        <title>My Technology News Site</title>\n",
    "    </head>\n",
    "\n",
    "    <body>\n",
    "        <div>\n",
    "            <p class=\"title\"><strong>Steve Jobs introduces the public beta of Mac OS X</strong></p>\n",
    "            <div class=\"description\">Sept 13, 2000 - Steve Jobs <a href=\"https://www.apple.com/pr/library/2000/09/13Apple-Releases-Mac-OS-X-Public-Beta.html\" target=\"_blank\">introduces</a> the public beta of Mac OS X for US$29.95.</div>\n",
    "            <div class=\"author\">Author: Michael Young</div>\n",
    "        </div>\n",
    "    </body>\n",
    "\n",
    "</html>\n",
    "\n",
    "```"
   ]
  },
  {
   "cell_type": "code",
   "execution_count": null,
   "metadata": {
    "collapsed": true
   },
   "outputs": [],
   "source": [
    "from bs4 import BeautifulSoup\n",
    "\n",
    "our_html = '''\n",
    "<html>\n",
    "\n",
    "    <head>\n",
    "        <title>My Technology News Site\n",
    "    </head>\n",
    "\n",
    "    <body>\n",
    "        <div>\n",
    "            <p class=\"title\"><strong>Steve Jobs introduces the public beta of Mac OS X</strong></p>\n",
    "            <div class=\"description\">Sept 13, 2000 - Steve Jobs <a href=\"https://www.apple.com/pr/library/2000/09/13Apple-Releases-Mac-OS-X-Public-Beta.html\" target=\"_blank\">introduces</a> the public beta of Mac OS X for US$29.95.</div>\n",
    "            <div class=\"author\">Author: Michael Young</div>\n",
    "        </div>\n",
    "    </body>\n",
    "\n",
    "</html>\n",
    "'''\n",
    "\n",
    "# BeautifulSoup takes two arguments: a string (hopefully with HTML in it) and the parser we'd like to use\n",
    "soup = BeautifulSoup(our_html, 'html.parser')\n",
    "\n",
    "# print out a pretty version of the BeautifulSoup object\n",
    "print(soup.prettify())"
   ]
  },
  {
   "cell_type": "markdown",
   "metadata": {},
   "source": [
    "Let's do a super-quick review of [HTML](https://en.wikipedia.org/wiki/HTML):\n",
    "\n",
    "**H**yper**T**ext **M**arkup **L**anguage is the language used for creating web pages. HTML uses `tags` which help label as well as structure the data in the document. Web browsers use the tags to help render the web page but does not display the tags. \n",
    "\n",
    "`Tags` normall come in pairs and have an opening tag `<p>` and a closing tag `</p>`:\n",
    "```html\n",
    "<p>this is a paragraph tag</p>\n",
    "```\n",
    "\n",
    "Other tags like the image tag `<img>` don't have a closing tag:\n",
    "```html\n",
    "<img src=\"http://somesite.com/images/logo.jpg\" />\n",
    "```\n",
    "\n",
    "The other important thing about HTML tags is that they can contain one or more `attributes`. Like in the `<img>` tag above, the `src` attribute is used specify the URL of the image. A tag with multiple attributes could look like this:\n",
    "```html\n",
    "<p attribute_1=\"value1\" attribute_2=\"value2\">\n",
    "Our content goes here\n",
    "</p>\n",
    "```\n",
    "\n",
    "HTML documents typically have nested tags (think of a tree!) that looks like this:\n",
    "```html\n",
    "<html>\n",
    "  <head>\n",
    "    <title>My First Website!</title>\n",
    "  </head>\n",
    "\n",
    "    <body>\n",
    "        <p>My mom would be proud of this.</p>\n",
    "    </body>  \n",
    "</html>\n",
    "```\n",
    "\n"
   ]
  },
  {
   "cell_type": "markdown",
   "metadata": {},
   "source": [
    "Back to BeautifulSoup...\n",
    "\n",
    "When we run our HTML document through BeautifulSoup, we get a python object that allows us to traverse, query and manipulate the HTML document.\n",
    "\n",
    "Here are a few ways to inspect our simple HTML document that we loaded above:"
   ]
  },
  {
   "cell_type": "code",
   "execution_count": null,
   "metadata": {
    "collapsed": true
   },
   "outputs": [],
   "source": [
    "# <title> tag\n",
    "print(soup.title)\n",
    "\n",
    "# name of the <title> tag\n",
    "print(soup.title.name)\n",
    "\n",
    "# string value in the <title> tag\n",
    "print(soup.title.string)"
   ]
  },
  {
   "cell_type": "code",
   "execution_count": null,
   "metadata": {
    "collapsed": true
   },
   "outputs": [],
   "source": [
    "# how about if we want to find the first <div> tag?\n",
    "\n",
    "soup.div"
   ]
  },
  {
   "cell_type": "code",
   "execution_count": null,
   "metadata": {
    "collapsed": true
   },
   "outputs": [],
   "source": [
    "# the string value for the first <p> tag within the first <div>\n",
    "\n",
    "soup.div.p.string"
   ]
  },
  {
   "cell_type": "code",
   "execution_count": null,
   "metadata": {
    "collapsed": true
   },
   "outputs": [],
   "source": [
    "# the value of the \"class\" attribute of the first <div> under the first <div> (!?!)\n",
    "\n",
    "soup.div.div['class']"
   ]
  },
  {
   "cell_type": "code",
   "execution_count": null,
   "metadata": {
    "collapsed": true
   },
   "outputs": [],
   "source": [
    "# here is how we'd find the the <a> tag\n",
    "\n",
    "soup.div.div.a"
   ]
  },
  {
   "cell_type": "code",
   "execution_count": null,
   "metadata": {
    "collapsed": true
   },
   "outputs": [],
   "source": [
    "#### For You To Try\n",
    "\n",
    "# how would you find the url in the description?\n",
    "\n"
   ]
  },
  {
   "cell_type": "markdown",
   "metadata": {},
   "source": [
    "We can use `find` and `find_all` to search through the HTML to find certains tags and tag/attribute combinations. Let's take a look:"
   ]
  },
  {
   "cell_type": "code",
   "execution_count": null,
   "metadata": {
    "collapsed": true
   },
   "outputs": [],
   "source": [
    "# find all <p> tags\n",
    "for p in soup.find_all('p'):\n",
    "    print(p.text)"
   ]
  },
  {
   "cell_type": "code",
   "execution_count": null,
   "metadata": {
    "collapsed": true
   },
   "outputs": [],
   "source": [
    "# find all <div class=\"author>...</div> tags\n",
    "for author_div in soup.find_all('div', attrs={'class': 'author'}):\n",
    "    print(author_div.text)"
   ]
  },
  {
   "cell_type": "markdown",
   "metadata": {},
   "source": [
    "### \"The president is still lying...\"\n",
    "\n",
    "Coming back to the Trump's lies page, how can we use BeautifulSoup to parse our the lies and create a CSV data that we can use for our own analysis?\n"
   ]
  },
  {
   "cell_type": "code",
   "execution_count": null,
   "metadata": {
    "collapsed": true
   },
   "outputs": [],
   "source": [
    "from requests import get\n",
    "from bs4 import BeautifulSoup\n",
    "\n",
    "url = 'https://www.nytimes.com/interactive/2017/06/23/opinion/trumps-lies.html'\n",
    "\n",
    "headers = {\n",
    "    'From': '<put your email here>'\n",
    "}\n",
    "\n",
    "# http request\n",
    "response = get(url, headers=headers)\n",
    "\n",
    "# run the HTML through BeautifulSoup\n",
    "soup = BeautifulSoup(response.text, 'html.parser')\n",
    "\n",
    "# print out a pretty version of the BeautifulSoup object\n",
    "print(soup.prettify())"
   ]
  },
  {
   "cell_type": "markdown",
   "metadata": {},
   "source": [
    "Still a mess! Let's open up the [link](https://www.nytimes.com/interactive/2017/06/23/opinion/trumps-lies.html) in Chrome and view the HTML there. Remember the `View Page Source` option that allows us to peek under the covers of any web page? Another great resource is [Chrome Developer Tools](https://developer.chrome.com/devtools) which gives you an even greater look under the hood! \n",
    "\n",
    "Do we see any patterns in the NYTimes HTML?\n",
    "\n",
    "```html\n",
    "<span class=\"short-desc\"><strong>Jan. 21&nbsp;</strong>“I wasn't a fan of Iraq. I didn't want to go into Iraq.” <span class=\"short-truth\"><a href=\"https://www.buzzfeed.com/andrewkaczynski/in-2002-donald-trump-said-he-supported-invading-iraq-on-the\" target=\"_blank\">(He was for an invasion before he was against it.)</a></span></span>&nbsp;&nbsp;<span class=\"short-desc\"><strong>Jan. 21&nbsp;</strong>“A reporter for Time magazine — and I have been on their cover 14 or 15 times. I think we have the all-time record in the history of Time magazine.” <span class=\"short-truth\"><a href=\"http://nation.time.com/2013/11/06/10-things-you-didnt-know-about-time/\" target=\"_blank\">(Trump was on the cover 11 times and Nixon appeared 55 times.)</a></span></span>&nbsp;&nbsp;\n",
    "```"
   ]
  },
  {
   "cell_type": "code",
   "execution_count": null,
   "metadata": {
    "collapsed": true
   },
   "outputs": [],
   "source": [
    "# we can find each lie between the <span class=\"short-desc\"> and </span> tags\n",
    "\n",
    "for lie in soup.find_all('span', attrs={'class': 'short-desc'}):\n",
    "    print(lie.prettify())"
   ]
  },
  {
   "cell_type": "code",
   "execution_count": null,
   "metadata": {
    "collapsed": true
   },
   "outputs": [],
   "source": [
    "# how would we find each date?\n",
    "\n",
    "for lie in soup.find_all('span', attrs={'class': 'short-desc'}):\n",
    "    date = lie.find('strong')\n",
    "    print(date.string)"
   ]
  },
  {
   "cell_type": "markdown",
   "metadata": {},
   "source": [
    "**There's another way!**\n",
    "\n",
    "BeautifulSoup tags have a `contents` attribute returns a `list` of all of the tags children. The children in this case are all of the tags and strings nested under a tag."
   ]
  },
  {
   "cell_type": "code",
   "execution_count": null,
   "metadata": {
    "collapsed": true
   },
   "outputs": [],
   "source": [
    "# print out the tag \"contents\"\n",
    "\n",
    "for lie in soup.find_all('span', attrs={'class': 'short-desc'}):\n",
    "    print(lie.contents)\n",
    "    print('---\\n')"
   ]
  },
  {
   "cell_type": "code",
   "execution_count": null,
   "metadata": {
    "collapsed": true
   },
   "outputs": [],
   "source": [
    "# another way to get the date\n",
    "\n",
    "for lie in soup.find_all('span', attrs={'class': 'short-desc'}):\n",
    "    date = lie.contents[0].string\n",
    "    print(date)"
   ]
  },
  {
   "cell_type": "code",
   "execution_count": null,
   "metadata": {
    "collapsed": true
   },
   "outputs": [],
   "source": [
    "# how about getting the actual lie?\n",
    "\n",
    "for lie in soup.find_all('span', attrs={'class': 'short-desc'}):\n",
    "    lie_text = lie.contents[1].string\n",
    "    print(lie_text)"
   ]
  },
  {
   "cell_type": "code",
   "execution_count": null,
   "metadata": {
    "collapsed": true
   },
   "outputs": [],
   "source": [
    "### For You To Try\n",
    "\n",
    "# how would we the link and text for the \"truth\"?\n"
   ]
  },
  {
   "cell_type": "markdown",
   "metadata": {},
   "source": [
    "### Putting It All Together\n",
    "\n",
    "Now that we have the scraping part knocked out (congrats!), what if we wanted to save the data to a local `csv` file, or to pandas, to do further analysis? How might we do that?\n"
   ]
  },
  {
   "cell_type": "code",
   "execution_count": null,
   "metadata": {
    "collapsed": true
   },
   "outputs": [],
   "source": [
    "### For You To Try\n",
    "\n",
    "# request the trump's lies page, parse out the date, lie, \"truth\" and \"truth\" url and save it in a CSV document\n"
   ]
  },
  {
   "cell_type": "markdown",
   "metadata": {},
   "source": [
    "### Metadata on the Web\n",
    "\n",
    "We're going to take a quick historical view of metadata on the web. As we have mentioned, data within web pages (the \"metadata\") can be a rich source of information. Most of this is used by search engines, Facebook, Twitter, etc - but it's also available for you! Let's take a quick spin through the past ~15 years and look at how metadata on the web has changed. And, we're going to write a little HTML on the way :-0\n",
    "\n",
    "**Let's travel back in time... to the year 2000...**\n",
    "\n",
    "Imaging that we are going to start a technology news web site and put it on the world-wide-web, information super-highway thing. We start off by creating a web page that links to some of the big technology stories of the day, like this:"
   ]
  },
  {
   "cell_type": "code",
   "execution_count": null,
   "metadata": {
    "collapsed": true
   },
   "outputs": [],
   "source": [
    "%%HTML\n",
    "\n",
    "<html>\n",
    "\n",
    "    <head>\n",
    "        <title>My Technology News Site</title>\n",
    "    </head>\n",
    "\n",
    "    <body>\n",
    "        <div>\n",
    "            <p><strong>Steve Jobs introduces the public beta of Mac OS X</strong></p>\n",
    "            <div>Sept 13, 2000 - Steve Jobs <a href=\"https://www.apple.com/pr/library/2000/09/13Apple-Releases-Mac-OS-X-Public-Beta.html\" target=\"_blank\">introduces</a> the public beta of Mac OS X for US$29.95.</div>\n",
    "            <div>Author: Michael Young</div>\n",
    "        </div>\n",
    "    </body>\n",
    "\n",
    "</html>"
   ]
  },
  {
   "cell_type": "markdown",
   "metadata": {},
   "source": [
    "---\n",
    "\n",
    "We send the link to our new site to our family and friends, and we have a handful of people reading it (well, two people really: our mom and the dog).\n",
    "\n",
    "**So, now we want more people to read it!**\n",
    "\n",
    "What's the best way to have more people discover this site in 2000? **Search.** And, by that I mean Google (which had launched a few years earlier in 1998). Let's ignore ~~Yahoo!~~ Oath for now, but it was a real player in search in the early days of the web.\n",
    "\n",
    "Our good friend, the SEO Guru, told us we needed to do some work on our site so that we could move up in the rankings. After talking to the \"guru\", we learned to help Google by telling them a little about our humble news site using the **```meta```** ```keywords``` and ```description``` tags."
   ]
  },
  {
   "cell_type": "code",
   "execution_count": null,
   "metadata": {
    "collapsed": true
   },
   "outputs": [],
   "source": [
    "%%HTML\n",
    "\n",
    "<html>\n",
    "\n",
    "    <head>\n",
    "        <title>My Technology News Site</title>\n",
    "        <meta name=\"description\" content=\"My Technology News Site has the most interesting technology stories every day.\">\n",
    "        <meta name=\"keywords\" content=\"tech, news, super important tech news, technology, technology news, kim kardashian\">\n",
    "    </head>\n",
    "\n",
    "    <body>\n",
    "        <div>\n",
    "            <div><strong>Steve Jobs introduces the public beta of Mac OS X</strong></div>\n",
    "            <div>Sept 13, 2000 - Steve Jobs <a href=\"https://www.apple.com/pr/library/2000/09/13Apple-Releases-Mac-OS-X-Public-Beta.html\" target=\"_blank\">introduces</a> the public beta of Mac OS X for US$29.95.</div>\n",
    "            <div>Author: Michael Young</div>\n",
    "        </div>\n",
    "    </body\n",
    "\n",
    "</html>"
   ]
  },
  {
   "cell_type": "markdown",
   "metadata": {},
   "source": [
    "---\n",
    "To review (in case of web technology circa 2000 is feeling slightly remote):\n",
    "\n",
    "&nbsp;&nbsp;&nbsp;&nbsp;&nbsp;The **```keywords```** metadata is used to tell search engines about the topic of the page.\n",
    "\n",
    "&nbsp;&nbsp;&nbsp;&nbsp;&nbsp;The **```description```** metadata is used to describe the site and this is what search engines use in their search results.\n",
    "\n",
    "A **key point** to remember: none of this data is viewable by users. It's for machines.\n",
    "\n",
    "Here is example of the ```description``` tag in use: \n",
    "\n",
    "![description](https://qph.ec.quoracdn.net/main-qimg-2c6dddd356b26ca0763241db501f52f8)\n",
    "\n",
    "**Great!**\n",
    "\n",
    "Google now knows a little about us and is ranking our site a bit higher in the search results for \"technology news.\" Because of that, we have a few more people showing up at our site.\n",
    "\n",
    "Over the next few years, we expand our little tech news site in to listing events as well. "
   ]
  },
  {
   "cell_type": "code",
   "execution_count": null,
   "metadata": {
    "collapsed": true
   },
   "outputs": [],
   "source": [
    "%%HTML\n",
    "\n",
    "<html>\n",
    "\n",
    "    <head>\n",
    "        <title>My Technology News Site - Events in San Francisco</title>\n",
    "        <meta name=\"description\" content=\"My Technology News Site has the most interesting technology stories and events.\">\n",
    "        <meta name=\"keywords\" content=\"tech, news, super important tech news, technology, technology news, technology events, events, San Francico, Silicon Valley\">\n",
    "    </head>\n",
    "\n",
    "    <body>\n",
    "        <div>\n",
    "            <div><strong>Macworld Expo San Francisco</strong></div>\n",
    "            <div>January 5-9, 2004</div>\n",
    "            <div>Moscone Convention Center, San Francisco, CA</div>\n",
    "        </div>\n",
    "    </body\n",
    "\n",
    "</html>"
   ]
  },
  {
   "cell_type": "markdown",
   "metadata": {},
   "source": [
    "---\n",
    "\n",
    "**Questions**: how does a search engine know that this site/page is really about technology? How does it know it's an event listing? Does anyone see how this metadata approach could be abused?\n",
    "\n",
    "\n",
    "### Microformats\n",
    "\n",
    "Around 2005, a group of people came up with the notion of a \"Microformat.\" The idea was to use additional markup in HTML to allow machines to easily discover data inside HTML (like our calendar event or news story). Simply put, _Microformats are a way to use html pages as both a human readable document and machine readable data, without repetition._\n",
    "\n",
    "The idea was originally a grassroots movement from developers but it was soon supported by some search engines and browers. It was never part of a standards body though - just an \"informal\" specification. [Microformats](http://microformats.org/wiki/Main_Page) are still used and supported but as we'll see, new metadata formats came along...\n",
    "\n",
    "Microformats allowed developers to highlight specific elements/types of content within a page, such as:\n",
    "\n",
    "```\n",
    "hAtom - blog posts and other date-stamped content\n",
    "hCalendar - events\n",
    "hCard - people, organizations, contacts\n",
    "hListing - listings for products or services\n",
    "hMedia - media info about images, video, audio\n",
    "hProduct - products\n",
    "hRecipe - cooking+baking recipes\n",
    "hResume - individual resumes and CVs\n",
    "hReview - individual reviews and ratings\n",
    "hReview-aggregate - aggregate reviews and ratings\n",
    "adr - address location information\n",
    "geo - latitude & longitude location (WGS84 geographic coordinates)\n",
    "```\n",
    "\n",
    "**What good does this do? What can we do with Micoformats?**\n",
    "\n",
    "A few things:\n",
    "1. Search engines now have help in knowing what a page, or data within a page, is about.\n",
    "2. Search engines can use this markup to know what to show in something like a \"rich snippet.\"\n",
    "3. Browsers started adding the ability to do things like detect an event in a page and allow a user to add it to their calendar (or a person's information to their Address book).\n",
    "\n",
    "Make sense? Let's revisit our event listing by using the `hCalendar` microformat."
   ]
  },
  {
   "cell_type": "code",
   "execution_count": null,
   "metadata": {
    "collapsed": true
   },
   "outputs": [],
   "source": [
    "%%HTML\n",
    "\n",
    "<html>\n",
    "\n",
    "    <head>\n",
    "        <title>My Technology News Site - Events in San Francisco</title>\n",
    "        <meta name=\"description\" content=\"My Technology News Site has the most interesting technology stories and events.\">\n",
    "        <meta name=\"keywords\" content=\"tech, news, super important tech news, technology, technology news, technology events, events, San Francico, Silicon Valley\">\n",
    "    </head>\n",
    "\n",
    "    <body>\n",
    "        <div class=\"vevent\">\n",
    "            <div class=\"summary\"><strong>Macworld Expo San Francisco</strong></div>\n",
    "            <div>\n",
    "                 <span class=\"dtstart\" title=\"2004-01-05\">January 5</span>-\n",
    "                 <span class=\"dtend\" title=\"2005-01-09\">9, 2004</span>\n",
    "            </div>\n",
    "            <div class=\"location\">Moscone Convention Center, San Francisco, CA</div>\n",
    "        </div>\n",
    "    </body>\n",
    "\n",
    "</html>"
   ]
  },
  {
   "cell_type": "markdown",
   "metadata": {},
   "source": [
    "---\n",
    "\n",
    "### Enter Microdata (and others)\n",
    "\n",
    "Over the coming years, other metadata approaches emerged such as [Microdata](http://schema.org/) (Google and other search engines), [OpenGraph](http://ogp.me/) (Facebook), [TwitterCards](https://dev.twitter.com/cards/overview) (Twitter) and others (RDF, [RDFa](https://rdfa.info/)). These were created and driven by various standard bodies, commercial interests (publishers, social networks, search engines, browsers) and developers. Again, the goal of these were to make it easier for machines to make sense of the data published inside web pages and to use that data to help display, rank and make publisher's content easier to interact with.\n",
    "\n",
    "We're going to focus on [Microdata](https://www.w3.org/TR/microdata/) for the rest of the class, but it's worth looking in to the others as well.\n",
    "\n",
    "Similar to Microformats, Microdata is defined as: _This specification defines the HTML microdata mechanism. This mechanism allows machine-readable data to be embedded in HTML documents in an easy-to-write manner, with an unambiguous parsing model. It is compatible with numerous other data formats including RDF and JSON._\n",
    "\n",
    "Though `Microdata` is not an official spec of *The W3C* (_The W3C HTML Working Group failed to find an editor for the specification and terminated its development with a 'Note'._) it is supported by Google, Microsoft, Yahoo and Yandex. In fact, these companies came together to create a vocabulary (specification, essentially) around microdata that is published at http://schema.org/. These companies have tried to establish and open forum and community-based process for updating the vocabulary/specification.\n",
    "\n",
    "Let's look at an example of how microdata works. We'll start by looking at a **Movie**. Here is some simple HTML that display's information about the movie Avatar. Go ahead and run it."
   ]
  },
  {
   "cell_type": "code",
   "execution_count": null,
   "metadata": {
    "collapsed": true
   },
   "outputs": [],
   "source": [
    "%%HTML\n",
    "\n",
    "<div>\n",
    "    <h1>Avatar</h1>\n",
    "    <div>Director: James Cameron (born August 16, 1954)</div>\n",
    "    <div>Science Fiction</div>\n",
    "    <div><a href=\"../movies/avatar-theatrical-trailer.html\">Trailer</a></div>\n",
    "</div>"
   ]
  },
  {
   "cell_type": "markdown",
   "metadata": {},
   "source": [
    "---\n",
    "\n",
    "### Adding Microdata to our HTML\n",
    "\n",
    "We want to let Google and the search engines know what this is information about a movie.\n",
    "\n",
    "**Step 1**: Identify which section is about the Movie 🎥\n",
    "\n",
    "Add the **`itemscope`** attribute to the HTML element which encloses the information about the movie.\n",
    "\n",
    "```html\n",
    "<div itemscope>\n",
    "    ...Movie info here...\n",
    "</div>\n",
    "```"
   ]
  },
  {
   "cell_type": "code",
   "execution_count": null,
   "metadata": {
    "collapsed": true
   },
   "outputs": [],
   "source": [
    "%%HTML\n",
    "\n",
    "<div itemscope>\n",
    "    <h1>Avatar</h1>\n",
    "    <div>Director: James Cameron (born August 16, 1954)</div>\n",
    "    <div>Science fiction</div>\n",
    "    <div><a href=\"../movies/avatar-theatrical-trailer.html\">Trailer</a></div>\n",
    "</div>"
   ]
  },
  {
   "cell_type": "markdown",
   "metadata": {},
   "source": [
    "---\n",
    "\n",
    "**Step 2**: Specify the type (i.e. this thing is a Movie)\n",
    "\n",
    "Now, add the **`itemtype`** attribute right after the **`itemscope`** and specify the type. When specifying the type, you can use any of the types listed on [schema.org](http://schema.org/docs/full.html)\n",
    "\n",
    "```html\n",
    "<div itemscope itemtype=\"http://schema.org/Movie\">\n",
    "    ...Movie info here...\n",
    "</div>\n",
    "```"
   ]
  },
  {
   "cell_type": "code",
   "execution_count": null,
   "metadata": {
    "collapsed": true
   },
   "outputs": [],
   "source": [
    "%%HTML\n",
    "\n",
    "<div itemscope itemtype=\"http://schema.org/Movie\">\n",
    "    <h1>Avatar</h1>\n",
    "    <div>Director: James Cameron (born August 16, 1954)</div>\n",
    "    <div>Science fiction</div>\n",
    "    <div><a href=\"../movies/avatar-theatrical-trailer.html\">Trailer</a></div>\n",
    "</div>"
   ]
  },
  {
   "cell_type": "markdown",
   "metadata": {},
   "source": [
    "---\n",
    "\n",
    "**Step 3**: Use the **`itemprop`** attribute to specify properties about the Movie.\n",
    "\n",
    "Nothing has changed visually on the page, but we've told search engines that this section of the page is about a Movie. Google thanks you! Can we go further with the [Movie type](http://schema.org/Movie)? How would we tell Google which of these fields is the movie name, director and genre? We can do this using the **`itemprop`** attribute.\n"
   ]
  },
  {
   "cell_type": "code",
   "execution_count": null,
   "metadata": {
    "collapsed": true
   },
   "outputs": [],
   "source": [
    "%%HTML\n",
    "\n",
    "<div itemscope itemtype=\"http://schema.org/Movie\">\n",
    "    <h1 itemprop=\"name\">Avatar</h1>\n",
    "    \n",
    "    <div itemprop=\"director\" itemscope itemtype=\"http://schema.org/Person\">\n",
    "        <span itemprop=\"name\">James Cameron</span>\n",
    "        (born: <span itemprop=\"birthDate\">August 16, 1954</span>)\n",
    "    </div>\n",
    "        \n",
    "    <div itemprop=\"genre\">Science fiction</div>\n",
    "    <div><a href=\"../movies/avatar-theatrical-trailer.html\">Trailer</a></div>\n",
    "</div>"
   ]
  },
  {
   "cell_type": "markdown",
   "metadata": {},
   "source": [
    "### You Try It\n",
    "\n",
    "Edit the HTML above and specify the trailor. Reference the [Movie documenation on schema.org.](http://schema.org/Movie)\n"
   ]
  },
  {
   "cell_type": "code",
   "execution_count": null,
   "metadata": {
    "collapsed": true
   },
   "outputs": [],
   "source": [
    "%%HTML\n"
   ]
  },
  {
   "cell_type": "markdown",
   "metadata": {},
   "source": [
    "### HOLD THE PHONE!\n",
    "\n",
    "So, this is one of three flavors of microdata. The others being [RDFa](https://rdfa.info/) and [JSON-LD](http://json-ld.org/spec/latest/json-ld/) (where \"LD\" is \"linked data\"). \n",
    "\n",
    "The search engines support all three formats but Google [recently said](https://developers.google.com/search/docs/guides/intro-structured-data) JSON-LD is their recommended format.\n",
    "\n",
    "Some publishers use the Microdata HTML markup, some use JSON-LD. It's a bit of the wild west out there. For the examples in this notebook, we'll stick with the HTML markup. However, if you were to take our Movie example from above and express it as JSON-LD, it would look something like this:\n",
    "\n",
    "```json\n",
    "<script type=\"application/ld+json\">\n",
    "{\n",
    "  \"@context\": \"http://schema.org\",\n",
    "  \"@type\": \"Movie\",\n",
    "  \"name\": \"Avatar\",\n",
    "  \"genre\": \"Science Fiction\",\n",
    "  \"director\": {\n",
    "    \"@type\": \"Person\",\n",
    "    \"name\": \"James Camerom\",\n",
    "  },\n",
    "}\n",
    "</script>\n",
    "\n",
    "```\n"
   ]
  },
  {
   "cell_type": "markdown",
   "metadata": {},
   "source": [
    "### Let's looks at the `NewsArticle` type 📰\n",
    "\n",
    "Take a quick peek at the schema documeation before we get started: http://schema.org/NewsArticle\n",
    "\n",
    "How would we go about extracting information about a NewsArticle using the tools we know (requests, BeautifulSoup, etc)?\n",
    "\n",
    "In particular, can we find this information in a [news article]('https://www.nytimes.com/2017/04/02/us/politics/trump-china-jared-kushner.html')?\n",
    "* `headline`\n",
    "* `author`\n",
    "* `description`"
   ]
  },
  {
   "cell_type": "code",
   "execution_count": null,
   "metadata": {
    "collapsed": true
   },
   "outputs": [],
   "source": [
    "import requests\n",
    "from bs4 import BeautifulSoup\n",
    "\n",
    "url = 'https://www.nytimes.com/2017/04/02/us/politics/trump-china-jared-kushner.html'\n",
    "\n",
    "# make the request and run the page through BeautifulSoup\n",
    "r = requests.get(url)\n",
    "soup = BeautifulSoup(r.text, 'html.parser')\n",
    "\n",
    "for tag in soup.find_all(attrs={'itemtype': 'http://schema.org/NewsArticle'}):\n",
    "\n",
    "    for stuff in tag.find_all(attrs={\"itemprop\":True}):\n",
    "        \n",
    "        if stuff['itemprop'] == 'headline':\n",
    "            print('headline: {0}'.format(stuff.string))\n",
    "\n",
    "        elif 'author' in stuff['itemprop']:\n",
    "            print('author: {0}'.format(stuff.string))\n",
    "\n",
    "        elif stuff['itemprop'] == 'description':\n",
    "            print('description: {0}'.format(stuff['content']))\n",
    "  "
   ]
  },
  {
   "cell_type": "markdown",
   "metadata": {},
   "source": [
    "### ClaimReview\n",
    "\n",
    "Ok, let's finally take a look at the *`ClaimReview`* microdata specification: https://schema.org/ClaimReview\n",
    "\n",
    "`ClaimReview` was introduced as a new type addded to the list of supported types (on schema.org) by [Google on October 16](https://blog.google/topics/journalism-news/labeling-fact-check-articles-google-news/).\n",
    "\n",
    "A `ClaimReview` is defined as: _A fact-checking review of claims made (or reported) in some creative work (referenced via itemReviewed)._\n",
    "\n",
    "Let's look at an article from the Washington Post \"Fact Checker\" blog to see if they have a ClaimReview."
   ]
  },
  {
   "cell_type": "code",
   "execution_count": null,
   "metadata": {
    "collapsed": true
   },
   "outputs": [],
   "source": [
    "url = 'https://www.washingtonpost.com/news/fact-checker/wp/2018/04/05/president-trump-says-his-beautiful-wall-is-being-built-nope/'\n",
    "\n",
    "response = requests.get(url)\n",
    "soup = BeautifulSoup(response.text, 'html.parser')\n",
    "\n",
    "for tag in soup.find_all(attrs={\"itemscope\":True}):\n",
    "    print(tag['itemtype'])"
   ]
  },
  {
   "cell_type": "markdown",
   "metadata": {},
   "source": [
    "Now, let's take a closer look at the info in the `ClaimReview`."
   ]
  },
  {
   "cell_type": "code",
   "execution_count": null,
   "metadata": {
    "collapsed": true
   },
   "outputs": [],
   "source": [
    "# let's print out the info in the Claim Review\n",
    "for tag in soup.find_all(attrs={'itemtype': 'http://schema.org/ClaimReview'}):\n",
    "\n",
    "    for stuff in tag.find_all(attrs={'itemprop':'itemReviewed'}):\n",
    "        print(stuff.prettify())"
   ]
  },
  {
   "cell_type": "markdown",
   "metadata": {},
   "source": [
    "To compare, take a look at what Google's tool finds for this article: https://search.google.com/structured-data/testing-tool/u/0/#url=https%3A%2F%2Fwww.washingtonpost.com%2Fnews%2Ffact-checker%2Fwp%2F2018%2F04%2F05%2Fpresident-trump-says-his-beautiful-wall-is-being-built-nope%2F%3Futm_term%3D.23e8905ce6f4\n",
    "\n",
    "One important piece of data in here is the `reviewRating` --> `alternateName` value. In WaPo's case, this is where they tell you if the Claim is 1-4 `Pinocchios`, `The Geppetto Checkmark`, `An Upside-Down Pinocchio\n",
    "` or `Verdict Pending`. You can see their entire rating system [here](https://www.washingtonpost.com/news/fact-checker/about-the-fact-checker/). What can you do with this information? \n",
    "\n",
    "How might you use what we've just done to find how fake news is shared on social networks?"
   ]
  },
  {
   "cell_type": "markdown",
   "metadata": {},
   "source": [
    "&#x1f3c6; **Challenge round! (for Homework) ** &#x1f3c6;\n",
    "\n",
    "Pick one or two of these tasks and use your skills with web scraping to answer the question. In each case, there is a URL and a data question attached to it. These come mainly from an excellent list compiled by Dan Nguyen at Stanford.\n",
    "\n",
    ">Site: [https://analytics.usa.gov/](https://analytics.usa.gov/)<br>\n",
    "Task: Number of people visiting US Government web sites now<br><br>\n",
    "Site: [http://www.state.gov/r/pa/ode/socialmedia/](http://www.state.gov/r/pa/ode/socialmedia/)<br>\n",
    "Task: The number of Pinterest accounts maintained by U.S. State Department embassies and missions<br><br>\n",
    "Site: [https://petitions.whitehouse.gov/](https://petitions.whitehouse.gov/)<br>\n",
    "Task: Number of petitions that have reached their goal<br><br>\n",
    "Site: [https://www.faa.gov/air_traffic/flight_info/aeronav/aero_data/](https://www.faa.gov/air_traffic/flight_info/aeronav/aero_data/)<br>\n",
    "Task: Number of airports with existing construction related activity<br><br>\n",
    "Site: [https://www.osha.gov/pls/imis/establishment.html](https://www.osha.gov/pls/imis/establishment.html)<br>\n",
    "Number of OSHA enforcement inspections involving Wal-Mart in California since 2014<br><br>\n",
    "Site: [https://www.tdcj.state.tx.us/death_row/dr_scheduled_executions.html](https://www.tdcj.state.tx.us/death_row/dr_scheduled_executions.html)<br>\n",
    "Task: Number of days until Texas's next scheduled execution <br><br>"
   ]
  },
  {
   "cell_type": "markdown",
   "metadata": {},
   "source": [
    "### P.S. if you were to add most of the various forms of metadata to our \"technology news site\" example...\n",
    "\n",
    "...it might look something like this:"
   ]
  },
  {
   "cell_type": "code",
   "execution_count": null,
   "metadata": {
    "collapsed": true
   },
   "outputs": [],
   "source": [
    "%%HTML\n",
    "\n",
    "<html>\n",
    "\n",
    "    <head>\n",
    "        <title>My Technology News Site - Events in San Francisco</title>\n",
    "        <meta name=\"description\" content=\"My Technology News Site has the most interesting technology stories and events.\">\n",
    "        <meta name=\"keywords\" content=\"tech, news, super important tech news, technology, technology news, technology events, events, San Francico, Silicon Valley\">\n",
    "        \n",
    "        <!-- OpenGraph for FB -->\n",
    "        <meta property=\"og:title\" content=\"My Technology News Site - Events in San Francisco\" />\n",
    "        <meta properly=\"og:description\" content=\"My Technology News Site has the most interesting technology stories and events.\" />\n",
    "        <meta property=\"og:type\" content=\"website\" />\n",
    "        <meta property=\"og:image\" content=\"http://mysweettechsite.com/logo.png\" />\n",
    "\n",
    "        <!-- TwitterCard for Twitter -->\n",
    "        \n",
    "        <meta name=\"twitter:card\" content=\"summary\" />\n",
    "        <meta name=\"twitter:site\" content=\"@mytwitteraccount\" />\n",
    "        <meta name=\"twitter:title\" content=\"My Technology News Site - Events in San Francisco\" />\n",
    "        <meta name=\"twitter:image\" content=\"http://mysweettechsite.com/logo.png\" />\n",
    "\n",
    "        <script type=\"application/ld+json\">\n",
    "        {\n",
    "            \"@context\": \"http://schema.org\",\n",
    "            \"@type\": \"Event\",\n",
    "            \"location\": {\n",
    "                \"@type\": \"Place\",\n",
    "                \"address\": {\n",
    "                  \"@type\": \"PostalAddress\",\n",
    "                  \"addressLocality\": \"San Francisco\",\n",
    "                  \"addressRegion\": \"CA\",\n",
    "                },\n",
    "                \"name\": \"The Moscone Convention Center\"\n",
    "            },\n",
    "            \"name\": \"Macworld Expo San Francisco\",\n",
    "            \"startDate\": \"2014-01-05T09:00\",\n",
    "            \"endDate\": \"2014-01-09T17:00\"\n",
    "        }\n",
    "        </script>\n",
    "    \n",
    "    </head>\n",
    "\n",
    "    <body>\n",
    "        <div class=\"vevent\">\n",
    "            <div class=\"summary\"><strong>Macworld Expo San Francisco</strong></div>\n",
    "            <div>\n",
    "                 <span class=\"dtstart\" title=\"2004-01-05\">January 5</span>-\n",
    "                 <span class=\"dtend\" title=\"2005-01-09\">9, 2004</span>\n",
    "            </div>\n",
    "            <div class=\"location\">Moscone Convention Center, San Francisco, CA</div>\n",
    "        </div>\n",
    "    </body>\n",
    "\n",
    "</html>"
   ]
  }
 ],
 "metadata": {
  "kernelspec": {
   "display_name": "Python 3",
   "language": "python",
   "name": "python3"
  },
  "language_info": {
   "codemirror_mode": {
    "name": "ipython",
    "version": 3
   },
   "file_extension": ".py",
   "mimetype": "text/x-python",
   "name": "python",
   "nbconvert_exporter": "python",
   "pygments_lexer": "ipython3",
   "version": "3.6.3"
  }
 },
 "nbformat": 4,
 "nbformat_minor": 2
}
