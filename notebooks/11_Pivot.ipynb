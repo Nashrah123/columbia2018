{
 "cells": [
  {
   "cell_type": "markdown",
   "metadata": {},
   "source": [
    "https://www.usatoday.com/story/tech/talkingtech/2018/02/24/7-days-fringe-mainstream-how-conspiracy-theory-ricocheted-around-web/361446002/\n",
    "\n",
    "\n",
    "https://www.factcheck.org/2018/02/no-crisis-actors-parkland-florida/"
   ]
  },
  {
   "cell_type": "code",
   "execution_count": null,
   "metadata": {},
   "outputs": [],
   "source": [
    "from json import loads\n",
    "\n",
    "d = open(\"crisisactors_tweets.json\").readline()\n",
    "loads(d)"
   ]
  },
  {
   "cell_type": "code",
   "execution_count": null,
   "metadata": {},
   "outputs": [],
   "source": [
    "from csv import writer\n",
    "\n",
    "tweets = writer(open(\"tweets.csv\",\"w\",encoding='utf-8'))\n",
    "tweets.writerow([\"id\",\"text\",\"created_at\",\"retweeted\",\"in_reply_to_screen_name\",\"in_reply_to_status_id\",\"retweeted_screen_name\",\"quoted_status_screen_name\",\"source\",\"retweet_count\",\"screen_name\",\"followers_count\",\"friends_count\"])\n",
    "\n",
    "hashtags = writer(open(\"hashtags.csv\",\"w\",encoding='utf-8'))\n",
    "hashtags.writerow([\"id\",\"created_at\",\"screen_name\",\"hashtag\"])\n",
    "\n",
    "urls = writer(open(\"urls.csv\",\"w\",encoding='utf-8'))\n",
    "urls.writerow([\"id\",\"created_at\",\"screen_name\",\"url\"])\n",
    "\n",
    "mentions = writer(open(\"mentions.csv\",\"w\",encoding='utf-8'))\n",
    "mentions.writerow([\"id\",\"created_at\",\"screen_name\",\"mention\"])\n",
    "\n",
    "media = writer(open(\"media.csv\",\"w\",encoding='utf-8'))\n",
    "media.writerow([\"id\",\"created_at\",\"screen_name\",\"media\"])\n",
    "\n",
    "data = open(\"crisisactors_tweets.json\").readlines()\n",
    "\n",
    "for d in data:\n",
    "        \n",
    "    tweet = loads(d)\n",
    "    \n",
    "    if tweet['source']:\n",
    "        ts = tweet['source']\n",
    "    else: ts = \"\"\n",
    "        \n",
    "    if tweet['in_reply_to_screen_name']:\n",
    "        irt = tweet['in_reply_to_screen_name']\n",
    "    else: irt = \"\"\n",
    "        \n",
    "    if \"retweeted_status\" in tweet:\n",
    "        rts = tweet[\"retweeted_status\"][\"user\"][\"screen_name\"]\n",
    "    else: rts = \"\"\n",
    "        \n",
    "    if \"quoted_status\" in tweet:\n",
    "        qs = tweet[\"quoted_status\"][\"user\"][\"screen_name\"]\n",
    "    else: qs = \"\"      \n",
    "   \n",
    "    if tweet[\"in_reply_to_status_id\"]:\n",
    "        irtid = tweet[\"in_reply_to_status_id\"]\n",
    "    else: irtid = \"\"\n",
    "            \n",
    "    out = [tweet[\"id\"],tweet[\"text\"],tweet[\"created_at\"],tweet['retweeted'],\n",
    "           irt, irtid, rts, qs, ts,\n",
    "           tweet[\"retweet_count\"],tweet[\"user\"][\"screen_name\"],\n",
    "           tweet[\"user\"][\"followers_count\"],tweet[\"user\"][\"friends_count\"]]\n",
    "    \n",
    "    tweets.writerow(out)\n",
    "    \n",
    "    if 'entities' in tweet and 'hashtags' in tweet['entities']:\n",
    "        save = []\n",
    "        for o in tweet['entities']['hashtags']:\n",
    "        \n",
    "            if not o['text'] in save:\n",
    "                out = [tweet[\"id\"],tweet[\"created_at\"],tweet[\"user\"]['screen_name'],o['text']]\n",
    "                hashtags.writerow(out)\n",
    "                save.append(o['text'])\n",
    "    \n",
    "    if 'entities'in tweet and 'urls' in tweet['entities']:\n",
    "\n",
    "        save = []\n",
    "        for o in tweet['entities']['urls']:\n",
    "        \n",
    "            if not o['expanded_url'] in save:\n",
    "                out = [tweet[\"id\"],tweet[\"created_at\"],tweet[\"user\"]['screen_name'],o['expanded_url']]\n",
    "                urls.writerow(out)\n",
    "                save.append(o['expanded_url'])\n",
    "                \n",
    "    if 'entities'in tweet and 'user_mentions' in tweet['entities']:\n",
    "        save = []        \n",
    "        for o in tweet['entities']['user_mentions']:\n",
    "            if not o['screen_name'] in save:\n",
    "                out = [tweet[\"id\"],tweet[\"created_at\"],tweet[\"user\"]['screen_name'],o['screen_name']]\n",
    "                mentions.writerow(out)\n",
    "                save.append(o['screen_name'])\n",
    "\n",
    "    if 'entities'in tweet and 'media' in tweet['entities']:\n",
    "        save = []\n",
    "        for o in tweet['entities']['media']:\n",
    " \n",
    "            if not o['expanded_url'] in save:\n",
    "                out = [tweet[\"id\"],tweet[\"created_at\"],tweet[\"user\"]['screen_name'],o['expanded_url']]\n",
    "                media.writerow(out)\n",
    "                save.append(o['expanded_url'])"
   ]
  },
  {
   "cell_type": "code",
   "execution_count": null,
   "metadata": {
    "collapsed": true
   },
   "outputs": [],
   "source": [
    "from pandas import to_datetime, TimeGrouper, set_option, read_csv\n",
    "set_option(\"display.max_rows\",100)\n",
    "set_option(\"display.max_colwidth\",500)"
   ]
  },
  {
   "cell_type": "code",
   "execution_count": null,
   "metadata": {
    "collapsed": true
   },
   "outputs": [],
   "source": [
    "from pandas import read_csv\n",
    "df = read_csv(\"tweets.csv\")"
   ]
  },
  {
   "cell_type": "code",
   "execution_count": null,
   "metadata": {},
   "outputs": [],
   "source": [
    "df.head()"
   ]
  },
  {
   "cell_type": "code",
   "execution_count": null,
   "metadata": {
    "collapsed": true
   },
   "outputs": [],
   "source": [
    "df.shape"
   ]
  },
  {
   "cell_type": "code",
   "execution_count": null,
   "metadata": {},
   "outputs": [],
   "source": [
    "df[\"stamp\"] = to_datetime(df[\"created_at\"],format='%a %b %d %H:%M:%S +0000 %Y')\n",
    "df.head()"
   ]
  },
  {
   "cell_type": "code",
   "execution_count": null,
   "metadata": {},
   "outputs": [],
   "source": [
    "df.sort_values(\"stamp\",inplace=True)\n",
    "df.head()"
   ]
  },
  {
   "cell_type": "code",
   "execution_count": null,
   "metadata": {},
   "outputs": [],
   "source": [
    "df[df[\"stamp\"]>= \"02-20-2018\"].head()"
   ]
  },
  {
   "cell_type": "code",
   "execution_count": null,
   "metadata": {
    "collapsed": true
   },
   "outputs": [],
   "source": [
    "df.set_index(\"stamp\",inplace=True)\n",
    "df.head()"
   ]
  },
  {
   "cell_type": "code",
   "execution_count": null,
   "metadata": {},
   "outputs": [],
   "source": [
    "counts = df.groupby(TimeGrouper(freq='30min')).agg({\"text\":\"count\"}).rename(columns={\"text\":\"count\"})\n",
    "counts.reset_index(inplace=True)\n",
    "\n",
    "counts.head()"
   ]
  },
  {
   "cell_type": "code",
   "execution_count": null,
   "metadata": {},
   "outputs": [],
   "source": [
    "from plotly.plotly import iplot, sign_in\n",
    "import plotly.graph_objs as go\n",
    "\n",
    "sign_in(\"cocteautt\",\"8YLww0QuMPVQ46meAMaq\")\n",
    "\n",
    "myplot_parts = [go.Scatter(x=counts[\"stamp\"],y=counts[\"count\"],mode=\"line\")]\n",
    "mylayout = go.Layout(autosize=False, width=1000,height=500)\n",
    "myfigure = go.Figure(data = myplot_parts, layout = mylayout)\n",
    "iplot(myfigure,filename=\"crisis\")"
   ]
  },
  {
   "cell_type": "code",
   "execution_count": null,
   "metadata": {},
   "outputs": [],
   "source": [
    "person = \"lucianwintrich\"\n",
    "df[df[\"quoted_status_screen_name\"].str.lower() == \"lucianwintrich\"]"
   ]
  },
  {
   "cell_type": "code",
   "execution_count": null,
   "metadata": {},
   "outputs": [],
   "source": [
    "df[\"screen_name\"].value_counts().head()"
   ]
  },
  {
   "cell_type": "code",
   "execution_count": null,
   "metadata": {},
   "outputs": [],
   "source": [
    "person = \"KianMcIan\"\n",
    "person_counts = df[df[\"screen_name\"]==person].groupby(TimeGrouper(freq='30min')).agg({\"id\":\"count\"}).rename(columns={\"id\":\"count\"})\n",
    "person_counts.reset_index(inplace=True)\n",
    "\n",
    "person_counts.head()"
   ]
  },
  {
   "cell_type": "code",
   "execution_count": null,
   "metadata": {},
   "outputs": [],
   "source": [
    "myplot_parts = [go.Scatter(x=person_counts[\"stamp\"],y=person_counts[\"count\"],mode=\"line\")]\n",
    "mylayout = go.Layout(autosize=False, width=1000,height=500)\n",
    "myfigure = go.Figure(data = myplot_parts, layout = mylayout)\n",
    "iplot(myfigure,filename=\"crisis\")"
   ]
  },
  {
   "cell_type": "code",
   "execution_count": null,
   "metadata": {},
   "outputs": [],
   "source": [
    "myplot_parts = [go.Scatter(x=counts[\"stamp\"],y=counts[\"count\"],mode=\"line\",name=\"Total\"),\n",
    "                go.Scatter(x=person_counts[\"stamp\"],y=person_counts[\"count\"],mode=\"line\",name=\"KianMcIan\")]\n",
    "mylayout = go.Layout(autosize=False, width=1000,height=500)\n",
    "myfigure = go.Figure(data = myplot_parts, layout = mylayout)\n",
    "iplot(myfigure,filename=\"crisis\")"
   ]
  },
  {
   "cell_type": "code",
   "execution_count": null,
   "metadata": {},
   "outputs": [],
   "source": [
    "person = df[df[\"screen_name\"]==person]\n",
    "person.head(100)"
   ]
  },
  {
   "cell_type": "code",
   "execution_count": null,
   "metadata": {
    "collapsed": true
   },
   "outputs": [],
   "source": [
    "df.reset_index(inplace=True)"
   ]
  },
  {
   "cell_type": "code",
   "execution_count": null,
   "metadata": {},
   "outputs": [],
   "source": [
    "time_window = df[(df[\"stamp\"] >= \"2018-02-21 21:00:00\") & (df[\"stamp\"] <= \"2018-02-21 23:00:00\")]"
   ]
  },
  {
   "cell_type": "code",
   "execution_count": null,
   "metadata": {
    "scrolled": true
   },
   "outputs": [],
   "source": [
    "time_window[\"screen_name\"].value_counts().head(25)"
   ]
  },
  {
   "cell_type": "code",
   "execution_count": null,
   "metadata": {},
   "outputs": [],
   "source": [
    "time_window_tops = time_window[time_window[\"screen_name\"].isin([\"MyFancyOne\",\"Jeanne_vanced\",\"browngravy_93\",\"AmericanMom2\",\"toksikshok\",\"ResistOpression\",\"UTHornsRawk\",\"RandieK\"])]\n",
    "\n",
    "myplot_parts = [go.Scatter(x=time_window_tops[\"stamp\"],y=time_window_tops[\"screen_name\"],mode=\"markers\")]\n",
    "mylayout = go.Layout(autosize=False, width=1000,height=500)\n",
    "myfigure = go.Figure(data = myplot_parts, layout = mylayout)\n",
    "iplot(myfigure,filename=\"crisis\")"
   ]
  },
  {
   "cell_type": "code",
   "execution_count": null,
   "metadata": {},
   "outputs": [],
   "source": [
    "person = \"UTHornsRawk\"\n",
    "person = df[df[\"screen_name\"]==person]\n",
    "person.head(100)"
   ]
  },
  {
   "cell_type": "code",
   "execution_count": null,
   "metadata": {},
   "outputs": [],
   "source": [
    "retweets = df[~df[\"retweeted_screen_name\"].isnull()]\n",
    "retweet_pairs = retweets[[\"id\",\"screen_name\",\"retweeted_screen_name\"]].groupby([\"screen_name\",\"retweeted_screen_name\"]).agg({\"id\":\"count\"}).rename(columns={\"id\":\"Weight\"})\n",
    "retweet_pairs.reset_index(inplace=True)\n",
    "\n",
    "retweet_pairs.sort_values(\"count\",ascending=False).head()"
   ]
  },
  {
   "cell_type": "code",
   "execution_count": null,
   "metadata": {},
   "outputs": [],
   "source": [
    "retweet_pairs[\"FromType\"] = \"Person\"\n",
    "retweet_pairs[\"ToType\"] = \"Person\"\n",
    "retweet_pairs[\"Edge\"] = \"Retweet\"\n",
    "retweet_pairs.rename(columns={\"screen_name\":\"FromName\",\"retweeted_screen_name\":\"ToName\"},inplace=True)\n",
    "retweet_pairs.head()"
   ]
  },
  {
   "cell_type": "code",
   "execution_count": null,
   "metadata": {},
   "outputs": [],
   "source": [
    "retweet_pairs[retweet_pairs[\"Weight\"]>1].shape"
   ]
  },
  {
   "cell_type": "code",
   "execution_count": null,
   "metadata": {},
   "outputs": [],
   "source": [
    "retweet_pairs[[\"FromType\",\"FromName\",\"Edge\",\"ToType\",\"ToName\",\"Weight\"]][retweet_pairs[\"Weight\"]>1].to_csv(\"For_Graph_Commons.csv\",index=False)"
   ]
  },
  {
   "cell_type": "code",
   "execution_count": null,
   "metadata": {},
   "outputs": [],
   "source": [
    "mentions = read_csv(\"mentions.csv\")\n",
    "mentions.head()"
   ]
  },
  {
   "cell_type": "code",
   "execution_count": null,
   "metadata": {
    "scrolled": true
   },
   "outputs": [],
   "source": [
    "mention_pairs = mentions[[\"id\",\"screen_name\",\"mention\"]].groupby([\"screen_name\",\"mention\"]).agg({\"id\":\"count\"}).rename(columns={\"id\":\"Weight\"})\n",
    "mention_pairs.reset_index(inplace=True)\n",
    "\n",
    "mention_pairs.head()"
   ]
  },
  {
   "cell_type": "code",
   "execution_count": null,
   "metadata": {},
   "outputs": [],
   "source": [
    "mention_pairs[\"FromType\"] = \"Person\"\n",
    "mention_pairs[\"ToType\"] = \"Person\"\n",
    "mention_pairs[\"Edge\"] = \"Mentioned\"\n",
    "mention_pairs.rename(columns={\"screen_name\":\"FromName\",\"mention\":\"ToName\"},inplace=True)\n",
    "mention_pairs.head()"
   ]
  },
  {
   "cell_type": "code",
   "execution_count": null,
   "metadata": {},
   "outputs": [],
   "source": [
    "mention_pairs.sort_values(\"Weight\",ascending=False).head()"
   ]
  },
  {
   "cell_type": "code",
   "execution_count": null,
   "metadata": {},
   "outputs": [],
   "source": [
    "mention_pairs[[\"FromType\",\"FromName\",\"Edge\",\"ToType\",\"ToName\",\"Weight\"]][mention_pairs[\"Weight\"]>1].to_csv(\"For_Graph_Commons2.csv\",index=False)"
   ]
  },
  {
   "cell_type": "code",
   "execution_count": null,
   "metadata": {},
   "outputs": [],
   "source": [
    "urls = read_csv(\"urls.csv\")\n",
    "urls.head()"
   ]
  },
  {
   "cell_type": "code",
   "execution_count": null,
   "metadata": {},
   "outputs": [],
   "source": [
    "purls = urls[urls[\"screen_name\"]==\"lensjockey\"]\n",
    "purls"
   ]
  },
  {
   "cell_type": "code",
   "execution_count": null,
   "metadata": {},
   "outputs": [],
   "source": [
    "urls[\"domain\"] = urls[\"url\"].str.replace(\"http.*://([^/]+).*\",r\"\\1\")\n",
    "urls.head()"
   ]
  },
  {
   "cell_type": "code",
   "execution_count": null,
   "metadata": {},
   "outputs": [],
   "source": [
    "urls[\"domain\"].value_counts()"
   ]
  },
  {
   "cell_type": "code",
   "execution_count": null,
   "metadata": {},
   "outputs": [],
   "source": [
    "hashtags = read_csv(\"hashtags.csv\")\n",
    "hashtags.head()"
   ]
  },
  {
   "cell_type": "code",
   "execution_count": null,
   "metadata": {},
   "outputs": [],
   "source": [
    "hashtags[\"hashtag\"].str.lower().value_counts()"
   ]
  },
  {
   "cell_type": "code",
   "execution_count": null,
   "metadata": {},
   "outputs": [],
   "source": [
    "tag_pairs = hashtags[[\"id\",\"screen_name\",\"hashtag\"]].groupby([\"screen_name\",\"hashtag\"]).agg({\"id\":\"count\"}).rename(columns={\"id\":\"Weight\"})\n",
    "tag_pairs.reset_index(inplace=True)\n",
    "\n",
    "tag_pairs.head()"
   ]
  },
  {
   "cell_type": "code",
   "execution_count": null,
   "metadata": {},
   "outputs": [],
   "source": [
    "tag_pairs[\"FromType\"] = \"Person\"\n",
    "tag_pairs[\"ToType\"] = \"Hashtag\"\n",
    "tag_pairs[\"Edge\"] = \"Mentioned\"\n",
    "tag_pairs.rename(columns={\"screen_name\":\"FromName\",\"hashtag\":\"ToName\"},inplace=True)\n",
    "tag_pairs.head()"
   ]
  },
  {
   "cell_type": "code",
   "execution_count": null,
   "metadata": {},
   "outputs": [],
   "source": [
    "keep = tag_pairs[\"FromName\"].value_counts()\n",
    "keep = keep[keep>5]\n",
    "keep.shape"
   ]
  },
  {
   "cell_type": "code",
   "execution_count": 347,
   "metadata": {},
   "outputs": [],
   "source": [
    "tag_pairs[[\"FromType\",\"FromName\",\"Edge\",\"ToType\",\"ToName\",\"Weight\"]].to_csv(\"For_Graph_Commons3.csv\",encoding=\"utf-8\",index=False)"
   ]
  },
  {
   "cell_type": "code",
   "execution_count": null,
   "metadata": {},
   "outputs": [],
   "source": [
    "df[\"in_reply_to_screen_name\"].value_counts()"
   ]
  },
  {
   "cell_type": "markdown",
   "metadata": {},
   "source": [
    "<pre>\n",
    "2018-02-21 20:30:22\n",
    "2018-02-21 20:45:24\n",
    "2018-02-21 21:00:26\n",
    "2018-02-21 21:15:23\n",
    "2018-02-21 21:30:22\n",
    "2018-02-21 21:45:20\n",
    "2018-02-21 22:01:09\n",
    "2018-02-21 22:15:53\n",
    "2018-02-21 22:31:07\n",
    "2018-02-21 22:46:07\n",
    "2018-02-21 23:01:05\n",
    "2018-02-21 23:15:23\n",
    "2018-02-21 23:30:21\n",
    "2018-02-21 23:45:22\n",
    "2018-02-22 00:00:23\n",
    "2018-02-22 00:15:21\n",
    "2018-02-22 00:30:21\n",
    "2018-02-22 00:45:21\n",
    "2018-02-22 01:00:23\n",
    "2018-02-22 01:15:23\n",
    "2018-02-22 01:30:21\n",
    "2018-02-22 01:45:22\n",
    "2018-02-22 02:00:22\n",
    "2018-02-22 02:15:21\n",
    "</pre>"
   ]
  }
 ],
 "metadata": {
  "kernelspec": {
   "display_name": "Python 3",
   "language": "python",
   "name": "python3"
  },
  "language_info": {
   "codemirror_mode": {
    "name": "ipython",
    "version": 3
   },
   "file_extension": ".py",
   "mimetype": "text/x-python",
   "name": "python",
   "nbconvert_exporter": "python",
   "pygments_lexer": "ipython3",
   "version": "3.6.3"
  }
 },
 "nbformat": 4,
 "nbformat_minor": 2
}
