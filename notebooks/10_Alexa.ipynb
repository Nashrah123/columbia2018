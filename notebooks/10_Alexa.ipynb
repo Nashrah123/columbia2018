{
 "cells": [
  {
   "cell_type": "markdown",
   "metadata": {},
   "source": [
    "<img src=https://github.com/computationaljournalism/columbia2018/raw/master/images/al.jpg style=\"width: 70%; border: #000000 1px outset;\"/>\n",
    "\n",
    "## Teaching Alexa New Tricks\n",
    "\n",
    "Today we are going to roll up our sleeves and get dirty with Alexa. You've had some experience mapping out your conversation and today we are going to turn these descriptions into actions that Alexa can take. Alexa's reactions will be modeled, ultimately, by *functions* in Python. We will be using a framework called Flask-Ask (a variant of an earlier framework for building your own API called Flask -- which we will get to eventually). Ah, but before we get too far, let's talk about how you make functions!\n",
    "\n",
    "### Functions\n",
    "\n",
    "So far, we have made a lot of use of the cell structure of your notebooks. We've tried to organize things so that each cell or maybe each \"chapter\" of a notebook accomplishes some task. And we have been encouraging you to make changes to the parameters (chaging file names, or picking different numbers) and reuse the code. In short the notebook has let you repeat analysis by creating chunks of text that you can use again on different data. \n",
    "\n",
    "But this is a little clunky. It's great when you are learning, but it's not the way Python developers think. The main technique to share code is via Python's package mechanism. We have seen packages like Tweepy and Pandas and TextBlob. The creators of each have provided us with new kinds of objects to accomplish new tasks, from making requests for data on the web to working with tabular data. These objects extend Python's basic functionality and is probably the key to its longevity and broad adoption. \n",
    "\n",
    "Packages consist of simple data, objects and a category of thing we have used but not named -- *functions.* When we use `read_csv()` we are invoking a function that takes as *input* a file name or URL and *returns as output* a DataFrame. When we use `search()` from the package `re`, we are calling a function that takes as *input* a string and a pattern (in the form of a regular expression) and *returns* a match object, telling us whether the pattern was found or not. \n",
    "\n",
    "Functions are basically blocks of code that we will want to use repeatedly. Remember, Python structures blocks of code using indentation. Below is a simple function -- it basically adds 2 to whatever you pass it. *Baby steps!*"
   ]
  },
  {
   "cell_type": "code",
   "execution_count": null,
   "metadata": {},
   "outputs": [],
   "source": [
    "def addtwo(x):\n",
    "    \"This function adds two to a number.\"\n",
    "    return(x+2)\n",
    "\n",
    "addtwo(3)"
   ]
  },
  {
   "cell_type": "markdown",
   "metadata": {},
   "source": [
    "The function `addtwo()` consists of two lines, both indented to the same level. That means they are read as part of the \"body\" of the function. The first line is just a bare string and is a description of what the function does. If you were to ask for help about the function, you will get this string."
   ]
  },
  {
   "cell_type": "code",
   "execution_count": null,
   "metadata": {},
   "outputs": [],
   "source": [
    "help(addtwo)"
   ]
  },
  {
   "cell_type": "markdown",
   "metadata": {},
   "source": [
    "The second line of the function involves a call to `return()`. This is the mechanism we use to exit the function and, well, return a value. That value can, in turn, be assigned a name and used in other calculations."
   ]
  },
  {
   "cell_type": "code",
   "execution_count": null,
   "metadata": {},
   "outputs": [],
   "source": [
    "y = addtwo(5)\n",
    "y"
   ]
  },
  {
   "cell_type": "markdown",
   "metadata": {},
   "source": [
    "Finally, the *parameter* `x` is assigned a value when the function is called. So `addtwo(3)` would assign x the value of 3, while `addtwo(20)` would assign `x` the value of 20. Let's make things a little more interesting. We are going to first write functions for our bots so let's make a slightly more conversational function. In this case we pass two parameters."
   ]
  },
  {
   "cell_type": "code",
   "execution_count": null,
   "metadata": {
    "collapsed": true
   },
   "outputs": [],
   "source": [
    "def judgey(name,ID):\n",
    "    \n",
    "    \"This function evaluates your twitter ID\"\n",
    "\n",
    "    if ID < 20000:\n",
    "        return(\"Wow {0}, you are an early adopter!\".format(name))\n",
    "    elif ID < 20000000:\n",
    "        return(\"OK {0}, you were sorta hip\".format(name))\n",
    "    else:\n",
    "        return(\"Meh {0}.\".format(name))"
   ]
  },
  {
   "cell_type": "markdown",
   "metadata": {},
   "source": [
    "The formatting we are using here for the strings is a little new. We saw it with ELIZA. We are passing the string contained in `name` to the `format()` method of a string. That will insert, in this case, the string held in `name` for the symbol `{0}`. Here's how it works."
   ]
  },
  {
   "cell_type": "code",
   "execution_count": null,
   "metadata": {},
   "outputs": [],
   "source": [
    "greeting = \"Hello\"\n",
    "\"{0} class.\".format(greeting)"
   ]
  },
  {
   "cell_type": "markdown",
   "metadata": {},
   "source": [
    "The reason we have `{0}` is that we can have as many numbered insertions as we like. Here we add strings to the beginning and end of the string."
   ]
  },
  {
   "cell_type": "code",
   "execution_count": null,
   "metadata": {},
   "outputs": [],
   "source": [
    "greeting = \"Hello\"\n",
    "mood = \"!\"\n",
    "\"{0} class{1}\".format(greeting,mood)"
   ]
  },
  {
   "cell_type": "markdown",
   "metadata": {},
   "source": [
    "There's more to say about formatting strings, but don't confuse the notation with defining a dictionary. This, like regular expressions, is a kind of mini-specification that shares some of the same symbols but doesn't mean the same thing as what we've seen before. Just keep clear what you're doing and the notation will make sense.\n",
    "\n",
    "Now that we've made a function with more than one variable, we can call it in a number of ways. The variations come from the way we associate values we are passing to parameters in the function. The simplest way to call a function is to simply assign values by position -- values are copied to their corresponding parameters in order.\n",
    "<br><br>\n",
    "&nbsp;&nbsp;&nbsp;&nbsp;&nbsp;&nbsp;`judgey(\"Mike\",2671)`\n",
    "<br><br>\n",
    "In this way, `name` becomes `\"Mike\"` and `ID` becomes `2671`. A downside of positional arguments is that you have to remember the meaning of each position. To avoid that confustion, you can instead specify arguments by the names of their corresponding parameters. These represent the same call to `judgey()` as that above.\n",
    "<br><br>\n",
    "&nbsp;&nbsp;&nbsp;&nbsp;&nbsp;&nbsp;`judgey(name=\"Mike\",ID=2671)`\n",
    "<br><br>\n",
    "&nbsp;&nbsp;&nbsp;&nbsp;&nbsp;&nbsp;`judgey(ID=2671,name=\"Mike\")`"
   ]
  },
  {
   "cell_type": "code",
   "execution_count": null,
   "metadata": {},
   "outputs": [],
   "source": [
    "judgey(\"Mike\",2671)"
   ]
  },
  {
   "cell_type": "code",
   "execution_count": null,
   "metadata": {},
   "outputs": [],
   "source": [
    "judgey(\"Emily\",1489691)"
   ]
  },
  {
   "cell_type": "markdown",
   "metadata": {},
   "source": [
    "Finally, in defining a function, we might have reasonable *default* values for certain parameters. These we define with the function specification and then the default value is used when the function is called if an alternate value is not specified. "
   ]
  },
  {
   "cell_type": "code",
   "execution_count": null,
   "metadata": {
    "collapsed": true
   },
   "outputs": [],
   "source": [
    "def judgey(name,ID,greeting=\"Hey\"):\n",
    "    \n",
    "    \"This function evaluates your twitter ID\"\n",
    "\n",
    "    if ID < 20000:\n",
    "        return(\"{0} {1}, you are an early adopter!\".format(greeting,name))\n",
    "    elif ID < 20000000:\n",
    "        return(\"{0} {1}, you were sorta hip\".format(greeting,name))\n",
    "    else:\n",
    "        return(\"{0} {1}.\".format(greeting,name))"
   ]
  },
  {
   "cell_type": "code",
   "execution_count": null,
   "metadata": {},
   "outputs": [],
   "source": [
    "judgey(\"Emily\",1489691)"
   ]
  },
  {
   "cell_type": "code",
   "execution_count": null,
   "metadata": {},
   "outputs": [],
   "source": [
    "judgey(\"Emily\",1489691,\"Well OK\")"
   ]
  },
  {
   "cell_type": "markdown",
   "metadata": {},
   "source": [
    "### Getting ready\n",
    "\n",
    "We are now going to install some code and set ourselves up on Amazon's Alexa development platform. First off, we need to install some code. We are going to use `pip` to install Flask-Ask as well as some helper code Mike Young has written to make this exercise easier given our current knowledge of Python. Remember, those of you on a Windows machine need to replace `sh` with `cmd`."
   ]
  },
  {
   "cell_type": "code",
   "execution_count": null,
   "metadata": {},
   "outputs": [],
   "source": [
    "%%sh\n",
    "pip install git+https://github.com/computationaljournalism/alexa_bot.git@v0.3"
   ]
  },
  {
   "cell_type": "markdown",
   "metadata": {},
   "source": [
    "Now, let's jump over to [Amazon's developer home (exciting, no?).](https://developer.amazon.com/) This shows us a number of services besides Alexa that are being offered. We might revisit some of these, but perhaps the important thing to note is how many services are out there as you venture into new storytelling technologies. \n",
    "\n",
    "<img src=https://github.com/computationaljournalism/columbia2018/raw/master/images/al2.jpg style=\"width: 50%; border: #000000 1px outset;\"/>\n",
    "\n",
    "From here, click on \"Developer Console\" at the top of the window. You might have to log into Amazon (using your regular account). This gives us something like the window below.\n",
    "\n",
    "<img src=https://github.com/computationaljournalism/columbia2018/raw/master/images/al5.jpg style=\"width: 50%; border: #000000 1px outset;\"/>\n",
    "\n",
    "Clicking on the \"Alexa\" portion of the toolbar will take you to [\"Get started with Alexa\"]( https://developer.amazon.com/edw/home.html#/). This lets you create new services -- either new skills (voice interactions) or new voice service (that helps you introduce voice interactions on new devices). From here we want to head to the Alexa Skills Kit. In future, you can jump right there. So let's start again."
   ]
  },
  {
   "cell_type": "markdown",
   "metadata": {},
   "source": [
    "### Creating our skill\n",
    "\n",
    "First, go to the [Alexa Skills Kit](https://developer.amazon.com/edw/home.html#/skills) and click the \"Add a New Skill\" button in the top righthand corner of the window. Remember that you can think of a skill as an app for Alexa. Let's walk through each part of the Alexa skills setup:"
   ]
  },
  {
   "cell_type": "markdown",
   "metadata": {},
   "source": [
    "\n",
    "**1. Skill Information**\n",
    "\n",
    "We will need to fill in some data about our skill. Whether Trippy or Civic-y or whichever we've decided on. Enter the following.\n",
    "\n",
    ">**Skill Type:** Select \"Custom Interaction Model\"\n",
    "<br><br>\n",
    "**Name:** You can give it anything you want\n",
    "<br><br>\n",
    "**Invocation Name:** This is important. This is the word or phrase used to trigger your skill. In a sense it’s voice’s equivalent of an app icon. This invocation name usually matches your skill’s name, but given the stringent rules around choosing an invocation name, it might end up being slightly different.\n",
    "<br><br>\n",
    "Take The Guardian’s skill as an example. Their invocation name is ‘the guardian’, so for a user to start using their skill they would say something along the lines of;\n",
    "<br><br>\n",
    "&nbsp;&nbsp;&nbsp;&nbsp;“Alexa, open The Guardian”<br>\n",
    "&nbsp;&nbsp;&nbsp;&nbsp;“Alexa, ask The Guardian to give me the headlines”<br>\n",
    "&nbsp;&nbsp;&nbsp;&nbsp;“Alexa, ask The Guardian to give me the latest podcasts”\n",
    "<br><br>\n",
    "**For the global fields (Audio Player, Video App and Render Template)**, select \"No\" for now. We'll come back to this.\n",
    "\n",
    "After you fill all this in, hit the **\"Next\"** button at the bottom right of the browser window."
   ]
  },
  {
   "cell_type": "markdown",
   "metadata": {},
   "source": [
    "**2. Interaction Model**\n",
    "\n",
    "This is where we tell Amazon how we'd like people to interact with our bot. In this section we need to fill out the \"Intent Schema\" but before we do, let's talk about \"intents\", \"slots\" and \"sample utterances.\" We gave you an Alexa vocabulary lesson on Monday, but let's review. \n",
    "\n",
    "An intent is what a user is trying to accomplish. ‘Intent’ doesn’t relate to the specific words that a user says, but the high-level goal they are aiming for. [Amazon offers a number of built-in intents](https://developer.amazon.com/docs/custom-skills/standard-built-in-intents.html) for goals like \"help\", \"cancel\" or \"resume\", and basic answers like \"yes\" and \"no.\"\n",
    "\n",
    "We are going to start with something simple, having our bot only respond to \"yes\" or \"no.\" Baby steps, but once we see everything working, we can quickly add complexity."
   ]
  },
  {
   "cell_type": "markdown",
   "metadata": {},
   "source": [
    "So, for the **Intent Schema**, we will add just two intents, both Amazon built-ins: `AMAZON.YesIntent` and `AMAZON.NoIntent`. \n",
    "\n",
    "At a technical level, the Intent Schema is looking for a piece of JSON containing a list of \"intents\" the bot will support. We'll get to more complicated ones (and look at custom intents and \"slots\") in just a minute.\n",
    "\n",
    "For now, cut and paste the following JSON in to the \"Intent Schema\" box in our Skills configuration page."
   ]
  },
  {
   "cell_type": "code",
   "execution_count": null,
   "metadata": {},
   "outputs": [],
   "source": [
    "{\n",
    "  \"intents\": [\n",
    "    {\n",
    "      \"intent\": \"AMAZON.YesIntent\"\n",
    "    },\n",
    "    {\n",
    "      \"intent\": \"AMAZON.NoIntent\"\n",
    "    }\n",
    "  ]\n",
    "}"
   ]
  },
  {
   "cell_type": "markdown",
   "metadata": {},
   "source": [
    "Utterances, you will recall, are the specific phrases that people will use when making a request to Alexa. These can be hugely varied — just think of the number of ways that people can ask for the time;\n",
    "<br><br>\n",
    "&nbsp;&nbsp;&nbsp;&nbsp“What time is it?”<br>\n",
    "&nbsp;&nbsp;&nbsp;&nbsp“What’s the time?”<br>\n",
    "&nbsp;&nbsp;&nbsp;&nbsp“How late is it?”<br>\n",
    "&nbsp;&nbsp;&nbsp;&nbsp“What’s the time now?”<br>\n",
    "&nbsp;&nbsp;&nbsp;&nbsp“Do you have the time?”<br>\n",
    "&nbsp;&nbsp;&nbsp;&nbsp“Can you tell me the time?”<br><br>\n",
    "This is where a flair for communication comes in — when developing a skill, utterances have to be coded to tell Alexa what to expect. This can mean typing out dozens of very slight variations of questions and statements — basically anything you think a user would actually say to get the result they want.\n",
    "\n",
    "In our case, for our **Sample Utterances** field in the developer form, we need to tell Alexa what we expect people will say for each of our intents. Cut and paste the following in to the \"Sample Utterances\" box.\n",
    "\n",
    "```\n",
    "AMAZON.YesIntent Yes\n",
    "AMAZON.YesIntent Yeah\n",
    "AMAZON.YesIntent Yep\n",
    "\n",
    "AMAZON.NoIntent No\n",
    "AMAZON.NoIntent Nah\n",
    "AMAZON.NoIntent Nope\n",
    "```\n",
    "\n",
    "Once you've filled in the two boxes, hit the **\"Next\"** button."
   ]
  },
  {
   "cell_type": "markdown",
   "metadata": {},
   "source": [
    "<img src=https://github.com/computationaljournalism/columbia2018/raw/master/images/aa.jpg style=\"width: 50%; border: #000000 1px outset;\"/>\n",
    "\n",
    "**3. An aside, network setup**\n",
    "\n",
    "This is where we tell Alexa where our bot code will be running. The Alexa Dot is actually a \"thin client\" that doesn't do very much. It listens and sends speech to the Alexa Voice Service which then does all the speech-to-text processing. The text that is extracted from speech snippets are then sent to our Flask-Ask program running on your laptop. The response you generate, is then sent to the Alexa Voice Service that performs the text-to-speech processing and sends the voice back to Alexa. \n",
    "\n",
    "Now, We'll be running the bot code on our laptop. But Amazon requires skills to run behind a public HTTPS server (or AWS Lambda function). To accomplish this easily, we'll need some help from a tool called [ngrok](https://ngrok.com/download) which will  route information to and from Amazon for us. \n",
    "\n",
    "At a technical level, ngrok is a command-line program that opens a secure tunnel to localhost and exposes that tunnel behind an HTTPS endpoint. ngrok makes it so Alexa can talk to your code right away. Follow the next three steps.\n",
    "\n",
    ">1. Download the ngrok client for your operating system.\n",
    "2. Unzip it to a location you can remember.\n",
    "3. Open up a new terminal, cd into the location, and enter:\n",
    "<br><br>\n",
    "on Unix/Mac:\n",
    "<br><br>\n",
    "&nbsp;&nbsp;&nbsp;&nbsp;&nbsp;&nbsp;**./ngrok http 5000**\n",
    "<br><br>\n",
    "on Windows:\n",
    "<br><br>\n",
    "&nbsp;&nbsp;&nbsp;&nbsp;&nbsp;&nbsp;**ngrok.exe http 5000**\n",
    "\n",
    "What you should see is something like this.\n",
    "\n",
    "<img src=https://github.com/computationaljournalism/columbia2018/raw/master/images/ng.jpg style=\"width: 50%; border: #000000 1px outset;\"/>\n",
    "\n",
    "**NOTE** The important part of the information here is the **`Forwarding`** https address - in this case: ` https://3c825e6b.ngrok.io`. You will need this in the next step. "
   ]
  },
  {
   "cell_type": "markdown",
   "metadata": {},
   "source": [
    "**4. Configuration**\n",
    "\n",
    "OK, back to our Alexa configuration (and we should be on the \"Configuration\" window of our Alexa setup in the Amazon Developer site). You'll want to do the following.\n",
    "\n",
    "**Service Endpoint Type:** select HTTPS.\n",
    "\n",
    "In the **Default** window, cut and paste the https ``Forwarding`` address from ngrok (https://fb2beea0.ngrok.io in the example above).\n",
    "\n",
    "For the rest of the \"Configuration\" options, you can just leave them as-is and click the **\"Next\"** button."
   ]
  },
  {
   "cell_type": "markdown",
   "metadata": {},
   "source": [
    "**5. SSL Certificate**\n",
    "\n",
    "For this, simply select the **middle option**: `\"My development endpoint is a sub-domain of a domain that has a wildcard certificate from a certificate authority\"`\n",
    "\n",
    "Click **\"Next\"** to move on."
   ]
  },
  {
   "cell_type": "markdown",
   "metadata": {},
   "source": [
    "**6. Programming our bot**\n",
    "\n",
    "Yay - we finally get to build our bot! We'll start by importing the AlexaBot \"wrapper\" that Mike Young wrote to make this programming easier. We will also import `statement` (a final response from Alexa to close out our session with our skill), `question` (a response that prompts the user for more input) and `session` (an object that lets us store data as the user gives it to us)."
   ]
  },
  {
   "cell_type": "code",
   "execution_count": null,
   "metadata": {
    "collapsed": true
   },
   "outputs": [],
   "source": [
    "from alexa_bot import AlexaBot\n",
    "from flask_ask import statement, question, session"
   ]
  },
  {
   "cell_type": "markdown",
   "metadata": {},
   "source": [
    "First, we want to define our **our launch intent**. This is the code that is called when we say \"Alexa open *[our bot name goes here]*\". How do we want to kick off the experience for our user?\n",
    "\n",
    "We don't need to add a launch intent to the configuration on the Alexa/Amazon site (it is assumed) but we do need code to handle it. This is how we do it:"
   ]
  },
  {
   "cell_type": "code",
   "execution_count": null,
   "metadata": {
    "collapsed": true
   },
   "outputs": [],
   "source": [
    "def launch_intent():\n",
    "    print(\"starting up\")\n",
    "    return(question(\"Welcome! It's nice to meet you. Is there something I can help you with today?\"))"
   ]
  },
  {
   "cell_type": "markdown",
   "metadata": {},
   "source": [
    "What do we want to do when our audience members say \"Yes\" or \"No\" to our Alexa bot? For now, let's just have it respond with something simple.\n",
    "\n",
    "Flask-Ask has two helper classes: `statement` and `question.` In our function below, we can return a `statement` with some text (as a string) and Alexa will read the text back to us. After she reads the text back to us, our interaction (or \"session\") will be closed. We'll learn about the `question` below."
   ]
  },
  {
   "cell_type": "code",
   "execution_count": null,
   "metadata": {
    "collapsed": true
   },
   "outputs": [],
   "source": [
    "def no_intent():\n",
    "    print(\"the no intent was called\")\n",
    "    return(statement(\"no? really?\"))\n",
    "\n",
    "def yes_intent():\n",
    "    print(\"the yes intent was called\")\n",
    "    return(statement(\"yes!\"))"
   ]
  },
  {
   "cell_type": "markdown",
   "metadata": {},
   "source": [
    "Next comes some configuration with our code. This is where we tell our bot which \"intent\" maps to which function. If we say \"Yes\" to our Alexa bot, we want to call our `yes_intent()` funtion. To configure our bot, we just need to create a simple list (really, a \"list of lists\") which have our intent as the first thing in the list and our function name as the second thing in the list."
   ]
  },
  {
   "cell_type": "code",
   "execution_count": null,
   "metadata": {
    "collapsed": true
   },
   "outputs": [],
   "source": [
    "config = [\n",
    "    ['launch', launch_intent],\n",
    "    ['AMAZON.NoIntent', no_intent],\n",
    "    ['AMAZON.YesIntent', yes_intent],\n",
    "]"
   ]
  },
  {
   "cell_type": "code",
   "execution_count": null,
   "metadata": {},
   "outputs": [],
   "source": [
    "# create out bot object\n",
    "bot = AlexaBot(config)\n",
    "\n",
    "# start up our bot\n",
    "bot.start()"
   ]
  },
  {
   "cell_type": "markdown",
   "metadata": {},
   "source": [
    "** Let's Test It!**\n",
    "\n",
    "Before we start talking to Alexa, let's use the Test tool that Amazon provides for us. Head back to the Alexa skills configuration tab in our browser, which should now be on the \"Test\" Step.\n",
    "\n",
    "First, make sure the Skill is \"Enabled\" - you should see \"This skill is enabled for testing on your account.\" If you see a \"Disabled\" box, just flip it on so that it's enabled.\n",
    "\n",
    "In the \"Service Simulator\" section, put some text in to the input box and test it out!\n",
    "\n",
    "Try some of the sample utterances we configured in the previous step: \"no\", \"nope\", \"yeah\", \"yes\"\n",
    "\n",
    "Next, try some random utterances (e.g. `What is the weather like in Cleveland?`). What happens?\n"
   ]
  },
  {
   "cell_type": "markdown",
   "metadata": {},
   "source": [
    "Notice here that we use a \"question\" instead of a \"statement\" like we used in our yes and not intent functions?\n",
    "\n",
    "When we return a `question`, Alexa will essentially ask us a question and wait for our response. When we return a `statement` as we did in our no and yes intents, Alexa will say the statement and our interaction (\"session\") will be over. We'll have to invoke our bot to start over."
   ]
  },
  {
   "cell_type": "markdown",
   "metadata": {},
   "source": [
    "**Alexa Time!**\n",
    "\n",
    "The amazon account you used to pair with your dot and the account you used for your development should be the same. Under the *Skills* section of the app on your phone you will find \"Dev\" skills. You can see these clearly. To access them you, say **Alexa, ask [invocation name]\".**\n",
    "<br><br>\n",
    "<img src=https://github.com/computationaljournalism/columbia2018/raw/master/images/IMG_0094.jpeg  style=\"width: 20%; border: #000000 1px outset;\"/><img src=https://github.com/computationaljournalism/columbia2018/raw/master/images/IMG_0095.jpeg  style=\"width: 20%; border: #000000 1px outset;\"/>"
   ]
  },
  {
   "cell_type": "markdown",
   "metadata": {},
   "source": [
    "**What's the state bird of `_____`?**\n",
    "\n",
    "So our \"yes/no\" bot is cute, but let's add some \"more compelling\" functionality to it and get you closer to being able to build your own bot.\n",
    "\n",
    "What if you wanted to ask Alexa what the state bird is for a particular US state? Exciting, I know! To do this, we'd need to add an \"intent\" to let Alexa know that user's of our bot can ask us for this.\n",
    "\n",
    "Before we get to code, how do you think users ask our bot about state birds? I can imagine a few simple ways:\n",
    "\n",
    "```\n",
    "What is the state bird of _____?\n",
    "What is the state bird for _____?\n",
    "```\n",
    "Any other ways a user might ask this question?\n",
    "\n",
    "Let's go back to the Alexa configuration web page (click on the \"Interaction Model\" tab) and we can add our new \"state bird\" intent. This one isnt as simple as a \"yes\" or \"no\" intent. Not only do a we need a name for a new intent, but we need to let Alexa know that user's might ask for one of the fifty states. We use \"slots\" to clue Alexa in on what the user's might ask for.\n",
    "\n",
    "As we saw last time, a slot is a variable that relates to an intent allowing Alexa to understand information about the request. For example, in a skill which delivers people their daily horoscope, the user’s request may take the form of the utterance “Give me the horoscope for Leo”. In this example, Leo would be the custom slot. \n",
    "\n",
    "Amazon provides a number of built in slot types, such as dates, numbers, durations, time, etc. But developers can create custom slots for variables which are specific to their skill. \n",
    "\n",
    "Think of \"slots\" as the `____` part of madlibs. Amazon has a bunch of [slot types](https://developer.amazon.com/docs/custom-skills/slot-type-reference.html#list-slot-types) already defined that you can use (Airline names, Companies, US cities and, yes, even US states). And you can use multiple slots for a single intent (we'll see this next).\n",
    "\n",
    "In our case, we'll use the slot type: `AMAZON.US_STATE`. Let's look at our updated \"Intent Schema\":"
   ]
  },
  {
   "cell_type": "code",
   "execution_count": null,
   "metadata": {
    "collapsed": true
   },
   "outputs": [],
   "source": [
    "{\n",
    "  \"intents\": [\n",
    "    {\n",
    "      \"intent\": \"AMAZON.YesIntent\"\n",
    "    },\n",
    "    {\n",
    "      \"intent\": \"AMAZON.NoIntent\"\n",
    "    },\n",
    "    {\n",
    "      \"intent\": \"StateBirdIntent\",\n",
    "      \"slots\": [\n",
    "        {\n",
    "          \"name\": \"us_state\",\n",
    "          \"type\": \"AMAZON.US_STATE\"\n",
    "        }\n",
    "      ]\n",
    "    }\n",
    "  ]\n",
    "}"
   ]
  },
  {
   "cell_type": "markdown",
   "metadata": {},
   "source": [
    "Add this to your **Intent Schema** box.\n",
    "\n",
    "Next, we need to add some \"Sample Utterances\" which will help train Alexa in how a user might talk to our bot. Add these to the **Sample Utterances** input box:\n",
    "\n",
    "```\n",
    "StateBirdIntent what is the state bird of {us_state}\n",
    "StateBirdIntent what is the state bird for {us_state}\n",
    "```\n",
    "\n",
    "Finally, click \"Save\" (it'll take a few seconds to save and update our bot configuration). Now that we've told Alexa about our new intent, let's code it up. Here is a simple function that will take a `us_state` as input and just says `\"sorry, we don't know.\"`"
   ]
  },
  {
   "cell_type": "code",
   "execution_count": null,
   "metadata": {
    "collapsed": true
   },
   "outputs": [],
   "source": [
    "def state_bird_intent(us_state):\n",
    "    print(\"state bird intent called with: \" + us_state)\n",
    "    # sorry! we don't know what state birds are (yet!)\n",
    "    return(statement(\"Sorry, I'm not sure what the state bird of %s is\" % us_state))"
   ]
  },
  {
   "cell_type": "markdown",
   "metadata": {},
   "source": [
    "Let's put all of our code, including our new state bird function, into a single cell so things are all in one place!"
   ]
  },
  {
   "cell_type": "code",
   "execution_count": null,
   "metadata": {},
   "outputs": [],
   "source": [
    "from alexa_bot import AlexaBot\n",
    "from flask_ask import statement, question, session\n",
    "\n",
    "def state_bird_intent(us_state):\n",
    "    print(\"state bird intent called with: \" + us_state)\n",
    "    # sorry! we don't know what state birds are (yet!)\n",
    "    return(statement(\"Sorry, I'm not sure what the state bird of {0} is\".format(us_state)))\n",
    "\n",
    "def launch_intent():\n",
    "    return(question(\"Welcome! It's nice to meet you. What can I do for you today?\"))\n",
    "\n",
    "def no_intent():\n",
    "    print(\"the no intent was called\")\n",
    "    return(statement(\"no? really?\"))\n",
    "\n",
    "def yes_intent():\n",
    "    print(\"the yes intent was called\")\n",
    "    return(statement(\"yes!\"))\n",
    "\n",
    "# we need to update our config and start our bot again\n",
    "config = [\n",
    "    ['launch', launch_intent],\n",
    "    ['AMAZON.NoIntent', no_intent],\n",
    "    ['AMAZON.YesIntent', yes_intent],\n",
    "    ['StateBirdIntent', state_bird_intent]\n",
    "]\n",
    "\n",
    "# create out bot object\n",
    "bot = AlexaBot(config)\n",
    "\n",
    "# start up our bot\n",
    "bot.start()"
   ]
  },
  {
   "cell_type": "code",
   "execution_count": null,
   "metadata": {},
   "outputs": [],
   "source": [
    "from pandas import read_html\n",
    "fromhtml = read_html(\"http://www.ipl.org/div/stateknow/chart.html\",header=0)\n",
    "states = fromhtml[1]\n",
    "\n",
    "states.head()"
   ]
  },
  {
   "cell_type": "code",
   "execution_count": null,
   "metadata": {},
   "outputs": [],
   "source": [
    "from alexa_bot import AlexaBot\n",
    "from flask_ask import statement, question, session\n",
    "\n",
    "from pandas import read_html\n",
    "fromhtml = read_html(\"http://www.ipl.org/div/stateknow/chart.html\",header=0)\n",
    "states = fromhtml[1]\n",
    "\n",
    "def state_bird_intent(us_state):\n",
    "    print(\"state bird intent called with: \" + us_state)\n",
    "    if sum(states[\"State\"]==us_state)==1:\n",
    "        bird = states[states[\"State\"]==us_state][\"Bird\"].iloc[0]\n",
    "        return(statement(\"The state bird of {0} is {1}.\".format(us_state,bird)))\n",
    "    return(statement(\"I don't know the state bird of {0}.\".format(us_state)))\n",
    "\n",
    "def launch_intent():\n",
    "    return(question(\"Welcome! It's nice to meet you. What can I do for you today?\"))\n",
    "\n",
    "def no_intent():\n",
    "    print(\"the no intent was called\")\n",
    "    return(statement(\"no? really?\"))\n",
    "\n",
    "def yes_intent():\n",
    "    print(\"the yes intent was called\")\n",
    "    return(statement(\"yes!\"))\n",
    "\n",
    "# we need to update our config and start our bot again\n",
    "config = [\n",
    "    ['launch', launch_intent],\n",
    "    ['AMAZON.NoIntent', no_intent],\n",
    "    ['AMAZON.YesIntent', yes_intent],\n",
    "    ['StateBirdIntent', state_bird_intent]\n",
    "]\n",
    "\n",
    "# create out bot object\n",
    "bot = AlexaBot(config)\n",
    "\n",
    "# start up our bot\n",
    "bot.start()"
   ]
  },
  {
   "cell_type": "markdown",
   "metadata": {},
   "source": [
    "**More madlibs: What's the `_____` of `_____`?**\n",
    "\n",
    "Now, we want to let our user ask about a variety of topics for a particular state:\n",
    "\n",
    "```\n",
    "What is the state bird of Oregon?\n",
    "What is the state flower of New York?\n",
    "What is the largest city in Alabama?\n",
    "```\n",
    "\n",
    "We already have this configured to work for all US States (remember the `AMAZON.US_STATE` slot type?). What if we want to add a new slot that accepts things like \"state bird\", \"state flower\", \"largest city\", etc? For this, we need to create a custom slot.\n",
    "\n",
    "One more time... let's go back to the Alexa configuration web page (click on the \"Interaction Model\" tab) and we can add create our new custom slot.\n",
    "\n",
    "For the Custom Slot Type, let's call it `StateInfo`. And, in the Values input box, let's put everything we want to support. For, let's do these:\n",
    "\n",
    "```\n",
    "state flower\n",
    "largest city\n",
    "```\n",
    "\n",
    "Click \"Add\" to create our new custom slot.\n",
    "\n",
    "Next, let's update our \"Intent Schema\" - we'll create a new intent `StateInfoIntent` with two slots: `AMAZON.US_STATE` and `StateInfo`."
   ]
  },
  {
   "cell_type": "code",
   "execution_count": null,
   "metadata": {
    "collapsed": true
   },
   "outputs": [],
   "source": [
    "{\n",
    "  \"intents\": [\n",
    "    {\n",
    "      \"intent\": \"AMAZON.YesIntent\"\n",
    "    },\n",
    "    {\n",
    "      \"intent\": \"AMAZON.NoIntent\"\n",
    "    },\n",
    "    {\n",
    "      \"intent\": \"StateBirdIntent\",\n",
    "      \"slots\": [\n",
    "        {\n",
    "          \"name\": \"us_state\",\n",
    "          \"type\": \"AMAZON.US_STATE\"\n",
    "        }\n",
    "      ]\n",
    "    },\n",
    "    {\n",
    "      \"intent\": \"StateInfoIntent\",\n",
    "      \"slots\": [\n",
    "        {\n",
    "          \"name\": \"us_state\",\n",
    "          \"type\": \"AMAZON.US_STATE\"\n",
    "        },\n",
    "        {\n",
    "          \"name\": \"state_info\",\n",
    "          \"type\": \"StateInfo\"\n",
    "        }\n",
    "      ]\n",
    "    }\n",
    "  ]\n",
    "}"
   ]
  },
  {
   "cell_type": "markdown",
   "metadata": {},
   "source": [
    "Since we have a new \"intent\", we need to add some sample utterances. Add these below and then click save.\n",
    "\n",
    "```\n",
    "StateInfoIntent what is the {state_info} of {us_state}\n",
    "StateInfoIntent what is the {state_info} for {us_state}\n",
    "StateInfoIntent what is the {state_info} in {us_state}\n",
    "```\n",
    "\n",
    "Now, let's write the code to handle the new StateInfoIntent:"
   ]
  },
  {
   "cell_type": "code",
   "execution_count": null,
   "metadata": {},
   "outputs": [],
   "source": [
    "from alexa_bot import AlexaBot\n",
    "from flask_ask import statement, question, session\n",
    "\n",
    "def state_info_intent(us_state, state_info):\n",
    "    print(\"state info intent called with: {0} and {1}\".format(us_state, state_info))\n",
    "    return(statement(\"You know...I'm not really sure what the {0} is for {1}\".format(state_info, us_state)))\n",
    "\n",
    "def state_info_intent(us_state,state_info):\n",
    "    print(\"state info intent called with: {0} and {1}\".format(us_state, state_info))\n",
    "    if state_info == \"state flower\":\n",
    "        if sum(states[\"State\"]==us_state)==1:\n",
    "            flower = states[states[\"State\"]==us_state][\"Flower\"].iloc[0]\n",
    "            return(statement(\"The state flower of {0} is {1}.\".format(us_state,flower)))\n",
    "        return(statement(\"I don't know the state flower of {0}\".format(us_state)))\n",
    "    elif state_info == \"largest city\":\n",
    "        if sum(states[\"State\"]==us_state)==1:\n",
    "            city = states[states[\"State\"]==us_state][\"Largest City\"].iloc[0]\n",
    "            return(statement(\"The largest city of {0} is {1}.\".format(us_state,city)))\n",
    "        return(statement(\"I don't know the largest city of {0}\".format(us_state)))\n",
    "    else:\n",
    "        return(statement(\"I can't help you\"))\n",
    "\n",
    "def state_bird_intent(us_state):\n",
    "    print(\"state bird intent called with: \" + us_state)\n",
    "    if sum(states[\"State\"]==us_state)==1:\n",
    "        bird = states[states[\"State\"]==us_state][\"Bird\"].iloc[0]\n",
    "        return(statement(\"The state bird of {0} is {1}.\".format(us_state,bird)))\n",
    "    return(statement(\"I don't know the state bird of {0}\".format(us_state)))\n",
    "\n",
    "def launch_intent():\n",
    "    return(question(\"Welcome! It's nice to meet you. What can I do for you today?\"))\n",
    "\n",
    "def no_intent():\n",
    "    print(\"the no intent was called\")\n",
    "    return(statement(\"no? really?\"))\n",
    "\n",
    "def yes_intent():\n",
    "    print(\"the yes intent was called\")\n",
    "    return(statement(\"yes!\"))\n",
    "\n",
    "# we need to update our config and start our bot again\n",
    "config = [\n",
    "    ['launch', launch_intent],\n",
    "    ['AMAZON.NoIntent', no_intent],\n",
    "    ['AMAZON.YesIntent', yes_intent],\n",
    "    ['StateBirdIntent', state_bird_intent],\n",
    "    ['StateInfoIntent', state_info_intent]\n",
    "]\n",
    "\n",
    "# create out bot object\n",
    "bot = AlexaBot(config)\n",
    "\n",
    "# start up our bot\n",
    "bot.start()"
   ]
  },
  {
   "cell_type": "markdown",
   "metadata": {},
   "source": [
    "What if we want to keep track of some information about our user while they are interacting with our bot. The Flask Ask module has a class called [`session`](http://flask-ask.readthedocs.io/en/latest/responses.html#session-management) which does exactly that. We can store information with each interaction and retrieve it later in the interaction if needed. You'll need this to make your bot truly conversational.\n",
    "\n",
    "Let's update our previous code to keep track of which `state` our user asks about and then reference it in the Yes and No intents. We've also used a `question` inside of our StateInfoIntent so that we can keep the conversation going."
   ]
  },
  {
   "cell_type": "code",
   "execution_count": null,
   "metadata": {
    "collapsed": true
   },
   "outputs": [],
   "source": [
    "from alexa_bot import AlexaBot\n",
    "from flask_ask import statement, question, session\n",
    "\n",
    "def state_info_intent(us_state, state_info):\n",
    "    \n",
    "    # save the state for this \"session\" so we can use it in the \"no\" and \"yes\" intent below.\n",
    "    session.attributes['us_state'] = us_state\n",
    "    \n",
    "    print(\"state info intent called with: {0} and {1}\".format(us_state, state_info))\n",
    "\n",
    "    # we are changing this to a question to keep our converation going!\n",
    "    return(question(\"You know...that's a very good question. Have you ever visited {0}?\".format(us_state)))\n",
    "\n",
    "def state_bird_intent(us_state):\n",
    "    print(\"state bird intent called with: {0}\".format(us_state))\n",
    "    # sorry! we don't know what state birds are (yet!)\n",
    "    return(statement(\"Sorry, I'm not sure what the state bird of %s is\" % us_state))\n",
    "\n",
    "def launch_intent():\n",
    "    return(question(\"Welcome! It's nice to meet you. What can I do for you today?\"))\n",
    "\n",
    "def no_intent():\n",
    "    print(\"state: \" + session.attributes['us_state'])\n",
    "    print(\"the no intent was called\")\n",
    "    us_state = session.attributes['us_state']\n",
    "    if us_state:\n",
    "        return(statement(\"no? {0} is very lovely this time of year - you should visit.\".format(us_state)))\n",
    "    else:\n",
    "        return(statement(\"no? really?\"))\n",
    "\n",
    "def yes_intent():\n",
    "    print(\"state: \" + session.attributes['state'])\n",
    "    print(\"the yes intent was called\")\n",
    "    us_state = session.attributes['us_state']\n",
    "    if us_state:\n",
    "        return(statement(\"yes! i've been to {0} too and it's quite nice.\".format(us_state)))\n",
    "    else:\n",
    "        return(statement(\"yes!\"))\n",
    "\n",
    "# we need to update our config and start our bot again\n",
    "config = [\n",
    "    ['launch', launch_intent],\n",
    "    ['AMAZON.NoIntent', no_intent],\n",
    "    ['AMAZON.YesIntent', yes_intent],\n",
    "    ['StateBirdIntent', state_bird_intent],\n",
    "    ['StateInfoIntent', state_info_intent]\n",
    "]\n",
    "\n",
    "# create out bot object\n",
    "bot = AlexaBot(config)\n",
    "\n",
    "# start up our bot\n",
    "bot.start()"
   ]
  }
 ],
 "metadata": {
  "kernelspec": {
   "display_name": "Python 3",
   "language": "python",
   "name": "python3"
  },
  "language_info": {
   "codemirror_mode": {
    "name": "ipython",
    "version": 3
   },
   "file_extension": ".py",
   "mimetype": "text/x-python",
   "name": "python",
   "nbconvert_exporter": "python",
   "pygments_lexer": "ipython3",
   "version": "3.6.3"
  }
 },
 "nbformat": 4,
 "nbformat_minor": 2
}
